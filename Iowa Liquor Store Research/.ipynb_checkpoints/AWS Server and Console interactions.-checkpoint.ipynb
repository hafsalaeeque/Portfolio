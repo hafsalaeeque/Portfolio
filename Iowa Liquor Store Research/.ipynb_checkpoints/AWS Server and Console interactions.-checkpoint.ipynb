{
 "cells": [
  {
   "cell_type": "code",
   "execution_count": null,
   "metadata": {
    "collapsed": true
   },
   "outputs": [],
   "source": [
    "\n",
    "\n"
   ]
  },
  {
   "cell_type": "code",
   "execution_count": null,
   "metadata": {
    "collapsed": true
   },
   "outputs": [],
   "source": []
  },
  {
   "cell_type": "code",
   "execution_count": null,
   "metadata": {
    "collapsed": true
   },
   "outputs": [],
   "source": [
    "\n",
    "\n",
    "ipython password = milton\n",
    "us\n",
    "virginia\n",
    "washington\n",
    ".\n",
    ".\n",
    "ipython\n",
    ".\n",
    "\n",
    "\n",
    "outpassword: 'sha1:40ef4ce8d1e3:68d03bac1be8afeef4b1dfa7bc4afa66f474f5e4'\n",
    "    \n",
    " cert directory : '/home/ubuntu/certificates/'"
   ]
  },
  {
   "cell_type": "code",
   "execution_count": null,
   "metadata": {
    "collapsed": true
   },
   "outputs": [],
   "source": []
  },
  {
   "cell_type": "markdown",
   "metadata": {},
   "source": [
    "Ipython Notebook running on AWS"
   ]
  },
  {
   "cell_type": "code",
   "execution_count": null,
   "metadata": {
    "collapsed": true
   },
   "outputs": [],
   "source": [
    "https://54.191.32.199:8888/"
   ]
  },
  {
   "cell_type": "code",
   "execution_count": null,
   "metadata": {
    "collapsed": true
   },
   "outputs": [],
   "source": [
    "https://54.149.143.172:8888/\n"
   ]
  },
  {
   "cell_type": "markdown",
   "metadata": {},
   "source": [
    "### Previous connection paths"
   ]
  },
  {
   "cell_type": "code",
   "execution_count": null,
   "metadata": {
    "collapsed": true
   },
   "outputs": [],
   "source": [
    "ssh -i ~/desktop/AWS-Lab-Key.pem ec2-user@ec2-54-245-48-216.us-west-2.compute.amazonaws.com"
   ]
  },
  {
   "cell_type": "code",
   "execution_count": null,
   "metadata": {
    "collapsed": true
   },
   "outputs": [],
   "source": [
    "ssh -i Jupyter-Notebook-AWS1.pem ubuntu@ec2-54-191-32-199.us-west-2.compute.amazonaws.com"
   ]
  },
  {
   "cell_type": "code",
   "execution_count": null,
   "metadata": {
    "collapsed": true
   },
   "outputs": [],
   "source": [
    "ssh -i ~/Jupyter-Notebook-AWS1.pem ubuntu@ec2-54-200-120-239.us-west-2.compute.amazonaws.com"
   ]
  },
  {
   "cell_type": "code",
   "execution_count": null,
   "metadata": {
    "collapsed": true
   },
   "outputs": [],
   "source": [
    "ubuntu@ec2-54-186-233-41.us-west-2.compute.amazonaws.com"
   ]
  },
  {
   "cell_type": "code",
   "execution_count": null,
   "metadata": {
    "collapsed": true
   },
   "outputs": [],
   "source": []
  },
  {
   "cell_type": "code",
   "execution_count": null,
   "metadata": {
    "collapsed": true
   },
   "outputs": [],
   "source": []
  },
  {
   "cell_type": "code",
   "execution_count": null,
   "metadata": {
    "collapsed": true
   },
   "outputs": [],
   "source": []
  },
  {
   "cell_type": "code",
   "execution_count": null,
   "metadata": {
    "collapsed": true
   },
   "outputs": [],
   "source": [
    "'$scp -i ~/Desktop/amazon.pem ~/Desktop/MS115.fa  ubuntu@ec2-54-166-128-20.compute-1.amazonaws.com:~/data/'\n",
    " ssh -i ~/Jupyter-Notebook-AWS1.pem ~/MICH_X.csv  ubuntu@ec2-54-186-233-41.us-west-2.compute.amazonaws.com~/data/'\n"
   ]
  },
  {
   "cell_type": "markdown",
   "metadata": {},
   "source": [
    "sudo get-apt install s3cmd\n",
    "s3cmd --configure\n",
    "(you will be prompted for information, give access ket and password, 'Yes' to everything else)\n",
    "s3cmd get s3://yourbucketname/yourfilename"
   ]
  }
 ],
 "metadata": {
  "kernelspec": {
   "display_name": "Python 2",
   "language": "python",
   "name": "python2"
  }
 },
 "nbformat": 4,
 "nbformat_minor": 0
}
