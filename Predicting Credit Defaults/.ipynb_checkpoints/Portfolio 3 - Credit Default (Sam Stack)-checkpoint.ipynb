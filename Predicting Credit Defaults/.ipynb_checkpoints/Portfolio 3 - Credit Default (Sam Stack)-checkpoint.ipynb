{
 "cells": [
  {
   "cell_type": "markdown",
   "metadata": {},
   "source": [
    "# Build several other models with KNN and Logistic SVM and explain the models, optimization process and scoring metrics used.  "
   ]
  },
  {
   "cell_type": "markdown",
   "metadata": {},
   "source": [
    "# Import Libraries"
   ]
  },
  {
   "cell_type": "code",
   "execution_count": 13,
   "metadata": {
    "collapsed": false
   },
   "outputs": [],
   "source": [
    "import pandas as pd\n",
    "import numpy as np\n",
    "import matplotlib.pyplot as plt\n",
    "import seaborn as sns\n",
    "%matplotlib inline\n",
    "\n",
    "from sklearn.grid_search import GridSearchCV \n",
    "from sklearn.metrics import confusion_matrix\n",
    "from sklearn import metrics"
   ]
  },
  {
   "cell_type": "code",
   "execution_count": 34,
   "metadata": {
    "collapsed": false
   },
   "outputs": [],
   "source": [
    "from sklearn.metrics import accuracy_score, recall_score, confusion_matrix, precision_score, roc_auc_score \n",
    "from sklearn.metrics import roc_curve, precision_recall_curve, classification_report, f1_score"
   ]
  },
  {
   "cell_type": "markdown",
   "metadata": {},
   "source": [
    "# Import Data"
   ]
  },
  {
   "cell_type": "code",
   "execution_count": 14,
   "metadata": {
    "collapsed": false
   },
   "outputs": [
    {
     "data": {
      "text/html": [
       "<div>\n",
       "<table border=\"1\" class=\"dataframe\">\n",
       "  <thead>\n",
       "    <tr style=\"text-align: right;\">\n",
       "      <th></th>\n",
       "      <th>ID</th>\n",
       "      <th>LIMIT_BAL</th>\n",
       "      <th>SEX</th>\n",
       "      <th>EDUCATION</th>\n",
       "      <th>MARRIAGE</th>\n",
       "      <th>AGE</th>\n",
       "      <th>PAY_0</th>\n",
       "      <th>PAY_2</th>\n",
       "      <th>PAY_3</th>\n",
       "      <th>PAY_4</th>\n",
       "      <th>...</th>\n",
       "      <th>BILL_AMT4</th>\n",
       "      <th>BILL_AMT5</th>\n",
       "      <th>BILL_AMT6</th>\n",
       "      <th>PAY_AMT1</th>\n",
       "      <th>PAY_AMT2</th>\n",
       "      <th>PAY_AMT3</th>\n",
       "      <th>PAY_AMT4</th>\n",
       "      <th>PAY_AMT5</th>\n",
       "      <th>PAY_AMT6</th>\n",
       "      <th>default payment next month</th>\n",
       "    </tr>\n",
       "  </thead>\n",
       "  <tbody>\n",
       "    <tr>\n",
       "      <th>0</th>\n",
       "      <td>1</td>\n",
       "      <td>20000</td>\n",
       "      <td>2</td>\n",
       "      <td>2.0</td>\n",
       "      <td>1</td>\n",
       "      <td>24</td>\n",
       "      <td>2</td>\n",
       "      <td>2</td>\n",
       "      <td>-1</td>\n",
       "      <td>-1</td>\n",
       "      <td>...</td>\n",
       "      <td>0</td>\n",
       "      <td>0</td>\n",
       "      <td>0</td>\n",
       "      <td>0</td>\n",
       "      <td>689</td>\n",
       "      <td>0</td>\n",
       "      <td>0</td>\n",
       "      <td>0</td>\n",
       "      <td>0</td>\n",
       "      <td>1</td>\n",
       "    </tr>\n",
       "    <tr>\n",
       "      <th>1</th>\n",
       "      <td>2</td>\n",
       "      <td>120000</td>\n",
       "      <td>2</td>\n",
       "      <td>2.0</td>\n",
       "      <td>2</td>\n",
       "      <td>26</td>\n",
       "      <td>-1</td>\n",
       "      <td>2</td>\n",
       "      <td>0</td>\n",
       "      <td>0</td>\n",
       "      <td>...</td>\n",
       "      <td>3272</td>\n",
       "      <td>3455</td>\n",
       "      <td>3261</td>\n",
       "      <td>0</td>\n",
       "      <td>1000</td>\n",
       "      <td>1000</td>\n",
       "      <td>1000</td>\n",
       "      <td>0</td>\n",
       "      <td>2000</td>\n",
       "      <td>1</td>\n",
       "    </tr>\n",
       "    <tr>\n",
       "      <th>2</th>\n",
       "      <td>3</td>\n",
       "      <td>90000</td>\n",
       "      <td>2</td>\n",
       "      <td>2.0</td>\n",
       "      <td>2</td>\n",
       "      <td>34</td>\n",
       "      <td>0</td>\n",
       "      <td>0</td>\n",
       "      <td>0</td>\n",
       "      <td>0</td>\n",
       "      <td>...</td>\n",
       "      <td>14331</td>\n",
       "      <td>14948</td>\n",
       "      <td>15549</td>\n",
       "      <td>1518</td>\n",
       "      <td>1500</td>\n",
       "      <td>1000</td>\n",
       "      <td>1000</td>\n",
       "      <td>1000</td>\n",
       "      <td>5000</td>\n",
       "      <td>0</td>\n",
       "    </tr>\n",
       "    <tr>\n",
       "      <th>3</th>\n",
       "      <td>4</td>\n",
       "      <td>50000</td>\n",
       "      <td>2</td>\n",
       "      <td>2.0</td>\n",
       "      <td>1</td>\n",
       "      <td>37</td>\n",
       "      <td>0</td>\n",
       "      <td>0</td>\n",
       "      <td>0</td>\n",
       "      <td>0</td>\n",
       "      <td>...</td>\n",
       "      <td>28314</td>\n",
       "      <td>28959</td>\n",
       "      <td>29547</td>\n",
       "      <td>2000</td>\n",
       "      <td>2019</td>\n",
       "      <td>1200</td>\n",
       "      <td>1100</td>\n",
       "      <td>1069</td>\n",
       "      <td>1000</td>\n",
       "      <td>0</td>\n",
       "    </tr>\n",
       "    <tr>\n",
       "      <th>4</th>\n",
       "      <td>5</td>\n",
       "      <td>50000</td>\n",
       "      <td>1</td>\n",
       "      <td>2.0</td>\n",
       "      <td>1</td>\n",
       "      <td>57</td>\n",
       "      <td>-1</td>\n",
       "      <td>0</td>\n",
       "      <td>-1</td>\n",
       "      <td>0</td>\n",
       "      <td>...</td>\n",
       "      <td>20940</td>\n",
       "      <td>19146</td>\n",
       "      <td>19131</td>\n",
       "      <td>2000</td>\n",
       "      <td>36681</td>\n",
       "      <td>10000</td>\n",
       "      <td>9000</td>\n",
       "      <td>689</td>\n",
       "      <td>679</td>\n",
       "      <td>0</td>\n",
       "    </tr>\n",
       "  </tbody>\n",
       "</table>\n",
       "<p>5 rows × 25 columns</p>\n",
       "</div>"
      ],
      "text/plain": [
       "   ID  LIMIT_BAL  SEX  EDUCATION  MARRIAGE  AGE  PAY_0  PAY_2  PAY_3  PAY_4  \\\n",
       "0   1      20000    2        2.0         1   24      2      2     -1     -1   \n",
       "1   2     120000    2        2.0         2   26     -1      2      0      0   \n",
       "2   3      90000    2        2.0         2   34      0      0      0      0   \n",
       "3   4      50000    2        2.0         1   37      0      0      0      0   \n",
       "4   5      50000    1        2.0         1   57     -1      0     -1      0   \n",
       "\n",
       "              ...              BILL_AMT4  BILL_AMT5  BILL_AMT6  PAY_AMT1  \\\n",
       "0             ...                      0          0          0         0   \n",
       "1             ...                   3272       3455       3261         0   \n",
       "2             ...                  14331      14948      15549      1518   \n",
       "3             ...                  28314      28959      29547      2000   \n",
       "4             ...                  20940      19146      19131      2000   \n",
       "\n",
       "   PAY_AMT2  PAY_AMT3  PAY_AMT4  PAY_AMT5  PAY_AMT6  \\\n",
       "0       689         0         0         0         0   \n",
       "1      1000      1000      1000         0      2000   \n",
       "2      1500      1000      1000      1000      5000   \n",
       "3      2019      1200      1100      1069      1000   \n",
       "4     36681     10000      9000       689       679   \n",
       "\n",
       "   default payment next month  \n",
       "0                           1  \n",
       "1                           1  \n",
       "2                           0  \n",
       "3                           0  \n",
       "4                           0  \n",
       "\n",
       "[5 rows x 25 columns]"
      ]
     },
     "execution_count": 14,
     "metadata": {},
     "output_type": "execute_result"
    }
   ],
   "source": [
    "cdf = pd.read_csv('Data/CreditDefault.csv')\n",
    "cdf.head()"
   ]
  },
  {
   "cell_type": "markdown",
   "metadata": {},
   "source": [
    "* 1 Amount of the given credit (NT dollar): it includes both the individual consumer credit and his/her family (supplementary) credit. \n",
    "may consider scaling the credit limit.\n",
    "\n",
    "* 2 Gender (1 = male; 2 = female). \n",
    "this is fine, either 1 or 2\n",
    "\n",
    "* 3 Education (1 = graduate school; 2 = university; 3 = high school; 4 = others). \n",
    "Probably make these into dummies and drop the 'others' column\n",
    "lots of null education values.  lets just add this to the 'others' category.\n",
    "\n",
    "* 4 Marital status (1 = married; 2 = single; 3 = others). \n",
    "proabably want dummies for this as well\n",
    "* 5 Age (year). \n",
    "* 6 = the repayment status in September, 2005\n",
    "* 7 = the repayment status in August, 2005\n",
    "* 8 = the repayment status in July, 2005\n",
    "* 9 = the repayment status in June, 2005\n",
    "* 10 = the repayment status in May, 2005\n",
    "* 11 = the repayment status in April, 2005 \n",
    "The measurement scale for the repayment status is: -1 = pay duly; 1 = payment delay for one month; 2 = payment delay for two months; . . .; 8 = payment delay for eight months; 9 = payment delay for nine months and above. \n",
    "\n",
    "* 12 = amount of bill statement in September, 2005; \n",
    "* 13 = amount of bill statement in August, 2005; Lots of null values for these.  lets just make them zero.\n",
    "* 14 = amount of bill statement in July, 2005\n",
    "* 15 = amount of bill statement in June, 2005\n",
    "* 16 = amount of bill statement in May, 2005\n",
    "* 17 = amount of bill statement in April, 2005\n",
    "\n",
    "* 18 = amount paid in September, 2005\n",
    "* 19 = amount paid in August, 2005\n",
    "* 20 = amount paid in July, 2005\n",
    "* 21 = amount paid in June, 2005\n",
    "* 22 = amount paid in May, 2005\n",
    "* 23 = amount paid in April, 2005\n",
    "\n",
    "* 24 = Default on Payment (Yes = 1, No = 0) "
   ]
  },
  {
   "cell_type": "code",
   "execution_count": 15,
   "metadata": {
    "collapsed": false
   },
   "outputs": [
    {
     "data": {
      "text/html": [
       "<div>\n",
       "<table border=\"1\" class=\"dataframe\">\n",
       "  <thead>\n",
       "    <tr style=\"text-align: right;\">\n",
       "      <th></th>\n",
       "      <th>ID</th>\n",
       "      <th>LIMIT_BAL</th>\n",
       "      <th>SEX</th>\n",
       "      <th>EDUCATION</th>\n",
       "      <th>MARRIAGE</th>\n",
       "      <th>AGE</th>\n",
       "      <th>PAY_0</th>\n",
       "      <th>PAY_2</th>\n",
       "      <th>PAY_3</th>\n",
       "      <th>PAY_4</th>\n",
       "      <th>...</th>\n",
       "      <th>BILL_AMT4</th>\n",
       "      <th>BILL_AMT5</th>\n",
       "      <th>BILL_AMT6</th>\n",
       "      <th>PAY_AMT1</th>\n",
       "      <th>PAY_AMT2</th>\n",
       "      <th>PAY_AMT3</th>\n",
       "      <th>PAY_AMT4</th>\n",
       "      <th>PAY_AMT5</th>\n",
       "      <th>PAY_AMT6</th>\n",
       "      <th>default payment next month</th>\n",
       "    </tr>\n",
       "  </thead>\n",
       "  <tbody>\n",
       "    <tr>\n",
       "      <th>count</th>\n",
       "      <td>30000.000000</td>\n",
       "      <td>30000.000000</td>\n",
       "      <td>30000.000000</td>\n",
       "      <td>26964.000000</td>\n",
       "      <td>30000.000000</td>\n",
       "      <td>30000.000000</td>\n",
       "      <td>30000.000000</td>\n",
       "      <td>30000.000000</td>\n",
       "      <td>30000.000000</td>\n",
       "      <td>30000.000000</td>\n",
       "      <td>...</td>\n",
       "      <td>30000.000000</td>\n",
       "      <td>30000.000000</td>\n",
       "      <td>30000.000000</td>\n",
       "      <td>30000.000000</td>\n",
       "      <td>3.000000e+04</td>\n",
       "      <td>30000.00000</td>\n",
       "      <td>30000.000000</td>\n",
       "      <td>30000.000000</td>\n",
       "      <td>30000.000000</td>\n",
       "      <td>30000.000000</td>\n",
       "    </tr>\n",
       "    <tr>\n",
       "      <th>mean</th>\n",
       "      <td>15000.500000</td>\n",
       "      <td>167484.322667</td>\n",
       "      <td>1.603733</td>\n",
       "      <td>1.870568</td>\n",
       "      <td>1.551867</td>\n",
       "      <td>35.485500</td>\n",
       "      <td>-0.016700</td>\n",
       "      <td>-0.133767</td>\n",
       "      <td>-0.166200</td>\n",
       "      <td>-0.220667</td>\n",
       "      <td>...</td>\n",
       "      <td>43262.948967</td>\n",
       "      <td>40311.400967</td>\n",
       "      <td>38871.760400</td>\n",
       "      <td>5663.580500</td>\n",
       "      <td>5.921163e+03</td>\n",
       "      <td>5225.68150</td>\n",
       "      <td>4826.076867</td>\n",
       "      <td>4799.387633</td>\n",
       "      <td>5215.502567</td>\n",
       "      <td>0.221200</td>\n",
       "    </tr>\n",
       "    <tr>\n",
       "      <th>std</th>\n",
       "      <td>8660.398374</td>\n",
       "      <td>129747.661567</td>\n",
       "      <td>0.489129</td>\n",
       "      <td>0.784977</td>\n",
       "      <td>0.521970</td>\n",
       "      <td>9.217904</td>\n",
       "      <td>1.123802</td>\n",
       "      <td>1.197186</td>\n",
       "      <td>1.196868</td>\n",
       "      <td>1.169139</td>\n",
       "      <td>...</td>\n",
       "      <td>64332.856134</td>\n",
       "      <td>60797.155770</td>\n",
       "      <td>59554.107537</td>\n",
       "      <td>16563.280354</td>\n",
       "      <td>2.304087e+04</td>\n",
       "      <td>17606.96147</td>\n",
       "      <td>15666.159744</td>\n",
       "      <td>15278.305679</td>\n",
       "      <td>17777.465775</td>\n",
       "      <td>0.415062</td>\n",
       "    </tr>\n",
       "    <tr>\n",
       "      <th>min</th>\n",
       "      <td>1.000000</td>\n",
       "      <td>10000.000000</td>\n",
       "      <td>1.000000</td>\n",
       "      <td>0.000000</td>\n",
       "      <td>0.000000</td>\n",
       "      <td>21.000000</td>\n",
       "      <td>-2.000000</td>\n",
       "      <td>-2.000000</td>\n",
       "      <td>-2.000000</td>\n",
       "      <td>-2.000000</td>\n",
       "      <td>...</td>\n",
       "      <td>-170000.000000</td>\n",
       "      <td>-81334.000000</td>\n",
       "      <td>-339603.000000</td>\n",
       "      <td>0.000000</td>\n",
       "      <td>0.000000e+00</td>\n",
       "      <td>0.00000</td>\n",
       "      <td>0.000000</td>\n",
       "      <td>0.000000</td>\n",
       "      <td>0.000000</td>\n",
       "      <td>0.000000</td>\n",
       "    </tr>\n",
       "    <tr>\n",
       "      <th>25%</th>\n",
       "      <td>7500.750000</td>\n",
       "      <td>50000.000000</td>\n",
       "      <td>1.000000</td>\n",
       "      <td>1.000000</td>\n",
       "      <td>1.000000</td>\n",
       "      <td>28.000000</td>\n",
       "      <td>-1.000000</td>\n",
       "      <td>-1.000000</td>\n",
       "      <td>-1.000000</td>\n",
       "      <td>-1.000000</td>\n",
       "      <td>...</td>\n",
       "      <td>2326.750000</td>\n",
       "      <td>1763.000000</td>\n",
       "      <td>1256.000000</td>\n",
       "      <td>1000.000000</td>\n",
       "      <td>8.330000e+02</td>\n",
       "      <td>390.00000</td>\n",
       "      <td>296.000000</td>\n",
       "      <td>252.500000</td>\n",
       "      <td>117.750000</td>\n",
       "      <td>0.000000</td>\n",
       "    </tr>\n",
       "    <tr>\n",
       "      <th>50%</th>\n",
       "      <td>15000.500000</td>\n",
       "      <td>140000.000000</td>\n",
       "      <td>2.000000</td>\n",
       "      <td>2.000000</td>\n",
       "      <td>2.000000</td>\n",
       "      <td>34.000000</td>\n",
       "      <td>0.000000</td>\n",
       "      <td>0.000000</td>\n",
       "      <td>0.000000</td>\n",
       "      <td>0.000000</td>\n",
       "      <td>...</td>\n",
       "      <td>19052.000000</td>\n",
       "      <td>18104.500000</td>\n",
       "      <td>17071.000000</td>\n",
       "      <td>2100.000000</td>\n",
       "      <td>2.009000e+03</td>\n",
       "      <td>1800.00000</td>\n",
       "      <td>1500.000000</td>\n",
       "      <td>1500.000000</td>\n",
       "      <td>1500.000000</td>\n",
       "      <td>0.000000</td>\n",
       "    </tr>\n",
       "    <tr>\n",
       "      <th>75%</th>\n",
       "      <td>22500.250000</td>\n",
       "      <td>240000.000000</td>\n",
       "      <td>2.000000</td>\n",
       "      <td>2.000000</td>\n",
       "      <td>2.000000</td>\n",
       "      <td>41.000000</td>\n",
       "      <td>0.000000</td>\n",
       "      <td>0.000000</td>\n",
       "      <td>0.000000</td>\n",
       "      <td>0.000000</td>\n",
       "      <td>...</td>\n",
       "      <td>54506.000000</td>\n",
       "      <td>50190.500000</td>\n",
       "      <td>49198.250000</td>\n",
       "      <td>5006.000000</td>\n",
       "      <td>5.000000e+03</td>\n",
       "      <td>4505.00000</td>\n",
       "      <td>4013.250000</td>\n",
       "      <td>4031.500000</td>\n",
       "      <td>4000.000000</td>\n",
       "      <td>0.000000</td>\n",
       "    </tr>\n",
       "    <tr>\n",
       "      <th>max</th>\n",
       "      <td>30000.000000</td>\n",
       "      <td>1000000.000000</td>\n",
       "      <td>2.000000</td>\n",
       "      <td>6.000000</td>\n",
       "      <td>3.000000</td>\n",
       "      <td>79.000000</td>\n",
       "      <td>8.000000</td>\n",
       "      <td>8.000000</td>\n",
       "      <td>8.000000</td>\n",
       "      <td>8.000000</td>\n",
       "      <td>...</td>\n",
       "      <td>891586.000000</td>\n",
       "      <td>927171.000000</td>\n",
       "      <td>961664.000000</td>\n",
       "      <td>873552.000000</td>\n",
       "      <td>1.684259e+06</td>\n",
       "      <td>896040.00000</td>\n",
       "      <td>621000.000000</td>\n",
       "      <td>426529.000000</td>\n",
       "      <td>528666.000000</td>\n",
       "      <td>1.000000</td>\n",
       "    </tr>\n",
       "  </tbody>\n",
       "</table>\n",
       "<p>8 rows × 25 columns</p>\n",
       "</div>"
      ],
      "text/plain": [
       "                 ID       LIMIT_BAL           SEX     EDUCATION      MARRIAGE  \\\n",
       "count  30000.000000    30000.000000  30000.000000  26964.000000  30000.000000   \n",
       "mean   15000.500000   167484.322667      1.603733      1.870568      1.551867   \n",
       "std     8660.398374   129747.661567      0.489129      0.784977      0.521970   \n",
       "min        1.000000    10000.000000      1.000000      0.000000      0.000000   \n",
       "25%     7500.750000    50000.000000      1.000000      1.000000      1.000000   \n",
       "50%    15000.500000   140000.000000      2.000000      2.000000      2.000000   \n",
       "75%    22500.250000   240000.000000      2.000000      2.000000      2.000000   \n",
       "max    30000.000000  1000000.000000      2.000000      6.000000      3.000000   \n",
       "\n",
       "                AGE         PAY_0         PAY_2         PAY_3         PAY_4  \\\n",
       "count  30000.000000  30000.000000  30000.000000  30000.000000  30000.000000   \n",
       "mean      35.485500     -0.016700     -0.133767     -0.166200     -0.220667   \n",
       "std        9.217904      1.123802      1.197186      1.196868      1.169139   \n",
       "min       21.000000     -2.000000     -2.000000     -2.000000     -2.000000   \n",
       "25%       28.000000     -1.000000     -1.000000     -1.000000     -1.000000   \n",
       "50%       34.000000      0.000000      0.000000      0.000000      0.000000   \n",
       "75%       41.000000      0.000000      0.000000      0.000000      0.000000   \n",
       "max       79.000000      8.000000      8.000000      8.000000      8.000000   \n",
       "\n",
       "                  ...                  BILL_AMT4      BILL_AMT5  \\\n",
       "count             ...               30000.000000   30000.000000   \n",
       "mean              ...               43262.948967   40311.400967   \n",
       "std               ...               64332.856134   60797.155770   \n",
       "min               ...             -170000.000000  -81334.000000   \n",
       "25%               ...                2326.750000    1763.000000   \n",
       "50%               ...               19052.000000   18104.500000   \n",
       "75%               ...               54506.000000   50190.500000   \n",
       "max               ...              891586.000000  927171.000000   \n",
       "\n",
       "           BILL_AMT6       PAY_AMT1      PAY_AMT2      PAY_AMT3  \\\n",
       "count   30000.000000   30000.000000  3.000000e+04   30000.00000   \n",
       "mean    38871.760400    5663.580500  5.921163e+03    5225.68150   \n",
       "std     59554.107537   16563.280354  2.304087e+04   17606.96147   \n",
       "min   -339603.000000       0.000000  0.000000e+00       0.00000   \n",
       "25%      1256.000000    1000.000000  8.330000e+02     390.00000   \n",
       "50%     17071.000000    2100.000000  2.009000e+03    1800.00000   \n",
       "75%     49198.250000    5006.000000  5.000000e+03    4505.00000   \n",
       "max    961664.000000  873552.000000  1.684259e+06  896040.00000   \n",
       "\n",
       "            PAY_AMT4       PAY_AMT5       PAY_AMT6  default payment next month  \n",
       "count   30000.000000   30000.000000   30000.000000                30000.000000  \n",
       "mean     4826.076867    4799.387633    5215.502567                    0.221200  \n",
       "std     15666.159744   15278.305679   17777.465775                    0.415062  \n",
       "min         0.000000       0.000000       0.000000                    0.000000  \n",
       "25%       296.000000     252.500000     117.750000                    0.000000  \n",
       "50%      1500.000000    1500.000000    1500.000000                    0.000000  \n",
       "75%      4013.250000    4031.500000    4000.000000                    0.000000  \n",
       "max    621000.000000  426529.000000  528666.000000                    1.000000  \n",
       "\n",
       "[8 rows x 25 columns]"
      ]
     },
     "execution_count": 15,
     "metadata": {},
     "output_type": "execute_result"
    }
   ],
   "source": [
    "cdf.describe()"
   ]
  },
  {
   "cell_type": "markdown",
   "metadata": {},
   "source": [
    "# EDA/Cleaning - "
   ]
  },
  {
   "cell_type": "markdown",
   "metadata": {},
   "source": [
    "### Histograhmcracker"
   ]
  },
  {
   "cell_type": "code",
   "execution_count": 16,
   "metadata": {
    "collapsed": false
   },
   "outputs": [
    {
     "data": {
      "text/plain": [
       "<matplotlib.axes._subplots.AxesSubplot at 0x111975a50>"
      ]
     },
     "execution_count": 16,
     "metadata": {},
     "output_type": "execute_result"
    },
    {
     "data": {
      "image/png": "[encoded data removed]",
      "text/plain": [
       "<matplotlib.figure.Figure at 0x117368d90>"
      ]
     },
     "metadata": {},
     "output_type": "display_data"
    }
   ],
   "source": [
    "#Lets look at the distribution of credit Balance, shall we?\n",
    "sns.distplot(cdf['LIMIT_BAL'], kde = False)"
   ]
  },
  {
   "cell_type": "markdown",
   "metadata": {},
   "source": [
    "looks like we have a right skewed distribution"
   ]
  },
  {
   "cell_type": "code",
   "execution_count": 17,
   "metadata": {
    "collapsed": false
   },
   "outputs": [
    {
     "data": {
      "text/plain": [
       "0    23364\n",
       "1     6636\n",
       "Name: default, dtype: int64"
      ]
     },
     "execution_count": 17,
     "metadata": {},
     "output_type": "execute_result"
    }
   ],
   "source": [
    "# Lets check out the distribution of Defaults to not\n",
    "# Changing column names as well because its too long\n",
    "cdf.rename(columns = {'default payment next month': 'default'}, inplace = True)\n",
    "cdf['default'].value_counts()\n",
    "# (Yes = 1, No = 0) "
   ]
  },
  {
   "cell_type": "code",
   "execution_count": null,
   "metadata": {
    "collapsed": false
   },
   "outputs": [],
   "source": [
    "6636.0/30000 = 0.2212"
   ]
  },
  {
   "cell_type": "markdown",
   "metadata": {},
   "source": [
    "About 22% of the records from the dataset ended up defaulting.If my model were to predict 'no' ('0'), every time its accuracy would be approx 78% based on the sample data.  I should shoot for an accuracy score above 78% in order to consider my model a successful predictor."
   ]
  },
  {
   "cell_type": "markdown",
   "metadata": {},
   "source": [
    "### Addressing Null Values\n",
    "Based on \"cdf.isnull().sum()\" we can see that all the null values are either in 'Education' or 'Bill_AMT2'.\n",
    "If we check out Data Dictionary we can see that a 4 in Education is 'Other' and because the null is an unknown we can fill them with 4's or 'Other' values.\n",
    "\n",
    "As for the \"BILL_AMT2\" its hard to believe that a credit company would loose data like this and instead there was an issue with the data entry for '0' values, therefore I am going to change all these values to a 0\n",
    "\n",
    "I am electing not to drop the nulls because it ends up being over 4000 rows which is more than 15% of the data."
   ]
  },
  {
   "cell_type": "code",
   "execution_count": 18,
   "metadata": {
    "collapsed": false
   },
   "outputs": [
    {
     "data": {
      "text/plain": [
       "ID              0\n",
       "LIMIT_BAL       0\n",
       "SEX             0\n",
       "EDUCATION    3036\n",
       "MARRIAGE        0\n",
       "AGE             0\n",
       "PAY_0           0\n",
       "PAY_2           0\n",
       "PAY_3           0\n",
       "PAY_4           0\n",
       "PAY_5           0\n",
       "PAY_6           0\n",
       "BILL_AMT1       0\n",
       "BILL_AMT2    2543\n",
       "BILL_AMT3       0\n",
       "BILL_AMT4       0\n",
       "BILL_AMT5       0\n",
       "BILL_AMT6       0\n",
       "PAY_AMT1        0\n",
       "PAY_AMT2        0\n",
       "PAY_AMT3        0\n",
       "PAY_AMT4        0\n",
       "PAY_AMT5        0\n",
       "PAY_AMT6        0\n",
       "default         0\n",
       "dtype: int64"
      ]
     },
     "execution_count": 18,
     "metadata": {},
     "output_type": "execute_result"
    }
   ],
   "source": [
    "cdf.isnull().sum()"
   ]
  },
  {
   "cell_type": "code",
   "execution_count": 19,
   "metadata": {
    "collapsed": true
   },
   "outputs": [],
   "source": [
    "# Filling null values.  All nulls appeared in the Education and BILL_AMTs columns\n",
    "cdf['EDUCATION'].fillna(value = 4, inplace = True)\n",
    "cdf['BILL_AMT2'].fillna(value = 0, inplace = True)"
   ]
  },
  {
   "cell_type": "markdown",
   "metadata": {},
   "source": [
    "Null values in the Education feature were filled with 4 as this was the equivalent for 'Other'.\n",
    "Null values in the BILL_AMT2 feature were filled with 0 because I imagine that there was some issue with the data entry that month. It is more likely that they had no value as opposed to the credit company somehow loosing 2500+ records of money that they are owed.  "
   ]
  },
  {
   "cell_type": "markdown",
   "metadata": {},
   "source": [
    "### Gett Dummies"
   ]
  },
  {
   "cell_type": "markdown",
   "metadata": {},
   "source": [
    "##### Sex\n",
    "- Converting Sex to standard boolean values.\n",
    "- 1 = male; 2 = female converted to 1 = male; 0 = female."
   ]
  },
  {
   "cell_type": "code",
   "execution_count": 20,
   "metadata": {
    "collapsed": true
   },
   "outputs": [],
   "source": [
    "sex_df = pd.get_dummies(cdf['SEX'])\n",
    "sex_df.rename(columns={1:'sex', 2:'sexd'}, inplace = True)\n",
    "sex_df.drop('sexd', axis= 1, inplace = True)"
   ]
  },
  {
   "cell_type": "markdown",
   "metadata": {},
   "source": [
    "##### Education\n",
    "- 1 = graduate school; 2 = university; 3 = high school; 4 = others\n",
    "- Turns out there were values of 0, 5 & 6 in the education column which dont have a key in the data dictionary.  \n",
    "- Changed the 5,6,0 categories to 4(other)"
   ]
  },
  {
   "cell_type": "code",
   "execution_count": 21,
   "metadata": {
    "collapsed": false
   },
   "outputs": [],
   "source": [
    "# Converting undefined feature values\n",
    "cdf['EDUCATION'].replace(to_replace = 5 , value = 4, inplace = True)\n",
    "cdf['EDUCATION'].replace(to_replace = 6 , value = 4, inplace = True)\n",
    "cdf['EDUCATION'].replace(to_replace = 0 , value = 4, inplace = True)\n",
    "cdf['EDUCATION'].value_counts()\n",
    "\n",
    "# converting the columns to a duummies DF\n",
    "ed_df = pd.get_dummies(cdf['EDUCATION'])\n",
    "ed_df.rename(columns = {1:'ED_GS', 2:'ED_U', 3:'ED_HS', 4:'ED_O'}, inplace = True)"
   ]
  },
  {
   "cell_type": "markdown",
   "metadata": {},
   "source": [
    "##### Marriage\n",
    "- 1 = married; 2 = single; 3 = others\n",
    "- Once again, there are more categories not described in the data dictionary. Converting  '0's into the category 3 \"other\""
   ]
  },
  {
   "cell_type": "code",
   "execution_count": 22,
   "metadata": {
    "collapsed": false
   },
   "outputs": [],
   "source": [
    "# Converting undefined feature values\n",
    "cdf['MARRIAGE'].replace(to_replace = 0, value = 3, inplace = True)\n",
    "# getting the dummies\n",
    "mg_df = pd.get_dummies(cdf['MARRIAGE'])\n",
    "# renaming columns\n",
    "mg_df.rename(columns = {1:'rs_married',2:'rs_single',3:'rs_other'}, inplace = True)\n",
    "# dropping the \"other\" dummie column to avoid perfect coorelation bias/error.\n",
    "mg_df.drop(['rs_other'], axis = 1, inplace = True)\n"
   ]
  },
  {
   "cell_type": "markdown",
   "metadata": {},
   "source": [
    "#### Concating the dummy variable dataframes\n",
    "\n",
    "This is really confusing and I'm pretty sure I could have done this better in one line.\n",
    "- \" cdf1 = pd.concat([cdf, sex_df, frank, ed_df, mg_df], axis = 1) \""
   ]
  },
  {
   "cell_type": "code",
   "execution_count": 23,
   "metadata": {
    "collapsed": false
   },
   "outputs": [],
   "source": [
    "frank = pd.concat([cdf, sex_df], axis = 1)\n",
    "cdf1 = pd.concat([frank, ed_df], axis = 1)\n",
    "cdf1 = pd.concat([cdf1, mg_df], axis = 1)\n",
    "# dropping the Education other category to avoid multicolinearity\n",
    "cdf1.drop('ED_O', axis = 1, inplace = True)"
   ]
  },
  {
   "cell_type": "code",
   "execution_count": 24,
   "metadata": {
    "collapsed": false
   },
   "outputs": [
    {
     "data": {
      "text/plain": [
       "(30000, 31)"
      ]
     },
     "execution_count": 24,
     "metadata": {},
     "output_type": "execute_result"
    }
   ],
   "source": [
    "# Checking shape to make sure everything concatted properly.  \n",
    "cdf1.shape"
   ]
  },
  {
   "cell_type": "code",
   "execution_count": 25,
   "metadata": {
    "collapsed": true
   },
   "outputs": [],
   "source": [
    "# Dropping old features that we made dummies for\n",
    "cdf1.drop(['SEX', 'EDUCATION', 'MARRIAGE'], axis = 1, inplace = True)"
   ]
  },
  {
   "cell_type": "markdown",
   "metadata": {},
   "source": [
    "# Model Prep "
   ]
  },
  {
   "cell_type": "markdown",
   "metadata": {},
   "source": [
    "### Feature Engineering"
   ]
  },
  {
   "cell_type": "markdown",
   "metadata": {},
   "source": [
    "##### Made a ratio of debt accrued to debt payed from the past 6 months.  \n",
    "While this is not a perfect representation of an indiduals past six months of credit activity, it will favor individuals who keep up with their payments and don't \"Fall in to the hole\", so to speak. "
   ]
  },
  {
   "cell_type": "code",
   "execution_count": 26,
   "metadata": {
    "collapsed": false
   },
   "outputs": [],
   "source": [
    "\n",
    "# Sum of all bill statements\n",
    "cdf1['debt_acr'] = cdf1['BILL_AMT1']+cdf1['BILL_AMT2']+cdf1['BILL_AMT3']+cdf1['BILL_AMT4']+cdf1['BILL_AMT5']+cdf1['BILL_AMT6']\n",
    "\n",
    "# Summ of all payments.  \n",
    "cdf1['debt_paid'] = cdf1['PAY_AMT1']+cdf1['PAY_AMT2']+cdf1['PAY_AMT3']+cdf1['PAY_AMT4']+cdf1['PAY_AMT5']+cdf1['PAY_AMT6']\n",
    "\n",
    "# debt to paid ratio Calculation\n",
    "cdf1['pay_ratio'] = cdf1['debt_paid']/cdf1['debt_acr']\n",
    "#Dropping the columns as they are no longer needed.\n",
    "cdf1.drop(['debt_paid','debt_acr'], axis = 1, inplace = True)"
   ]
  },
  {
   "cell_type": "markdown",
   "metadata": {},
   "source": [
    "##### Drop Engineered Feature rows\n",
    "There are 600+ rows in the dataframe now where the pay_ratio column has NAN value.  \n",
    "I believe this is because those individuals accrued 0 debt which was used as the denominator.  Individuals that accrue 0 debt probably won't be defaulting.  I think that is enough Justification to Drop them as as lender can deduce that without a model.  "
   ]
  },
  {
   "cell_type": "code",
   "execution_count": 27,
   "metadata": {
    "collapsed": true
   },
   "outputs": [],
   "source": [
    "cdf1.dropna(inplace = True)"
   ]
  },
  {
   "cell_type": "markdown",
   "metadata": {},
   "source": [
    "### Train-Test Split"
   ]
  },
  {
   "cell_type": "code",
   "execution_count": 45,
   "metadata": {
    "collapsed": true
   },
   "outputs": [],
   "source": [
    "from sklearn.cross_validation import train_test_split\n",
    "from sklearn import preprocessing\n",
    "\n",
    "# define the variables\n",
    "X_df = cdf1.drop(['default','ID'], axis =1)\n",
    "y_df = cdf1['default']\n",
    "\n",
    "# Eliminate Infinite values\n",
    "Xb = np.nan_to_num(Xa)\n",
    "X = Xb"
   ]
  },
  {
   "cell_type": "code",
   "execution_count": 46,
   "metadata": {
    "collapsed": true
   },
   "outputs": [],
   "source": [
    "X_train, X_test, y_train, y_test = train_test_split(X,y_df, test_size=0.2)"
   ]
  },
  {
   "cell_type": "code",
   "execution_count": 29,
   "metadata": {
    "collapsed": false
   },
   "outputs": [
    {
     "name": "stderr",
     "output_type": "stream",
     "text": [
      "/Users/samuelstack/anaconda/lib/python2.7/site-packages/sklearn/preprocessing/data.py:167: UserWarning: Numerical issues were encountered when centering the data and might not be solved. Dataset may contain too large values. You may need to prescale your features.\n",
      "  warnings.warn(\"Numerical issues were encountered \"\n",
      "/Users/samuelstack/anaconda/lib/python2.7/site-packages/sklearn/preprocessing/data.py:184: UserWarning: Numerical issues were encountered when scaling the data and might not be solved. The standard deviation of the data is probably very close to 0. \n",
      "  warnings.warn(\"Numerical issues were encountered \"\n"
     ]
    }
   ],
   "source": [
    "\n",
    "\n",
    "\n",
    "# convert dataframes to numpy matrix\n",
    "#Xa = X_df.as_matrix(columns = None)\n",
    "\n",
    "\n",
    "\n",
    "# Feature Scaling (improved my model score by 3% (once i got it to run properly))\n",
    "X = preprocessing.scale(Xb)\n",
    "\n",
    "X = np.nan_to_num(X)\n",
    "y = y_df.as_matrix(columns = None)\n",
    "# this is suppose to convert all nulls to 0, (but there are no nulls) and make all infinite values finite.\n",
    "\n",
    "# Train-Test Split\n"
   ]
  },
  {
   "cell_type": "markdown",
   "metadata": {
    "collapsed": true
   },
   "source": [
    "#### Side note\n",
    "\"DataFrame(X).fillna()\"\n",
    "Can be used to fill na values in a dataframe. the default is '0', but arguments can be passed change the fill\n",
    "to whatever is desired.  "
   ]
  },
  {
   "cell_type": "markdown",
   "metadata": {},
   "source": [
    "# Dataset 1 Modelleing: \n",
    "#### Logistic Regression \n",
    "#### K-Nearest Neighbors\n",
    "#### SVM Logistic Model"
   ]
  },
  {
   "cell_type": "code",
   "execution_count": 47,
   "metadata": {
    "collapsed": false
   },
   "outputs": [],
   "source": [
    "from sklearn.linear_model import LogisticRegression\n",
    "\n",
    "lr = LogisticRegression()\n",
    "\n",
    "lr.fit(X_train, y_train)\n",
    "predictions = lr.predict(X_test)"
   ]
  },
  {
   "cell_type": "code",
   "execution_count": 53,
   "metadata": {
    "collapsed": false
   },
   "outputs": [
    {
     "ename": "AttributeError",
     "evalue": "'LogisticRegression' object has no attribute 'f1_score'",
     "output_type": "error",
     "traceback": [
      "\u001b[0;31m---------------------------------------------------------------------------\u001b[0m",
      "\u001b[0;31mAttributeError\u001b[0m                            Traceback (most recent call last)",
      "\u001b[0;32m<ipython-input-53-392d333d8e0b>\u001b[0m in \u001b[0;36m<module>\u001b[0;34m()\u001b[0m\n\u001b[1;32m      1\u001b[0m \u001b[0;31m#print lr.accuracy_score(y_test, predictions)\u001b[0m\u001b[0;34m\u001b[0m\u001b[0;34m\u001b[0m\u001b[0m\n\u001b[0;32m----> 2\u001b[0;31m \u001b[0;32mprint\u001b[0m \u001b[0mlr\u001b[0m\u001b[0;34m.\u001b[0m\u001b[0mf1_score\u001b[0m\u001b[0;34m(\u001b[0m\u001b[0my_test\u001b[0m\u001b[0;34m,\u001b[0m \u001b[0mpredictions\u001b[0m\u001b[0;34m)\u001b[0m\u001b[0;34m\u001b[0m\u001b[0m\n\u001b[0m\u001b[1;32m      3\u001b[0m \u001b[0;32mprint\u001b[0m \u001b[0mlr\u001b[0m\u001b[0;34m.\u001b[0m\u001b[0mclassification_report\u001b[0m\u001b[0;34m(\u001b[0m\u001b[0mpredictions\u001b[0m\u001b[0;34m,\u001b[0m \u001b[0my_test\u001b[0m\u001b[0;34m)\u001b[0m\u001b[0;34m\u001b[0m\u001b[0m\n",
      "\u001b[0;31mAttributeError\u001b[0m: 'LogisticRegression' object has no attribute 'f1_score'"
     ]
    }
   ],
   "source": [
    "#print lr.accuracy_score(y_test, predictions)\n",
    "print lr.f1_score(y_test, predictions)\n",
    "print lr.classification_report(predictions, y_test)"
   ]
  },
  {
   "cell_type": "markdown",
   "metadata": {},
   "source": [
    "### Model Scoring"
   ]
  },
  {
   "cell_type": "markdown",
   "metadata": {},
   "source": [
    "Classifications\n",
    "\n",
    "accuracy_score         - Right to wrong prediction ration. \n",
    "confusion_matrix       - Shows Predicted verus true values in terms of True & False, Positives and Negatives.\n",
    "recall_score           - True Positives divided by all relevent observations (True positives and Negatives). \n",
    "precision_score        - True Positives divided by all positives (True and False Positives).\n",
    "f1_score               - Weighted Average of the Precision and Recall scores.\n",
    "precision_recall_curve - Visual represenation of Precision Score vs. Recall Score.\n",
    "roc_curve              - Visual representation of true positive rate vs. true negative rate.  \n",
    "roc_auc_score          - Calculation of the area under the ROC Curve.\n",
    "classification_report  - Text report showing the main classification metrics."
   ]
  },
  {
   "cell_type": "markdown",
   "metadata": {},
   "source": [
    "Regressions\n",
    "\n",
    "mean_absolute_error\n",
    "mean_squared_error \n",
    "median_absolute_error \n",
    "r2_score"
   ]
  },
  {
   "cell_type": "code",
   "execution_count": 31,
   "metadata": {
    "collapsed": true
   },
   "outputs": [],
   "source": [
    "from sklearn.neighbors import KNeighborsClassifier\n",
    "\n",
    "knn = KNeighborsClassifier()\n",
    "\n",
    "knn.fit(X_train, y_train)\n",
    "predictions = knn.predict(X_test)\n",
    "\n"
   ]
  },
  {
   "cell_type": "markdown",
   "metadata": {},
   "source": [
    "### Feature Selection/Optimization\n",
    "Gridsearch is used to discover the optimum model parameters.  GridSearch is computationally expensive so it is ideal to run it a least often as possible.  "
   ]
  },
  {
   "cell_type": "code",
   "execution_count": 24,
   "metadata": {
    "collapsed": false
   },
   "outputs": [],
   "source": [
    "# GridSearch\n",
    "lr = LogisticRegression()\n",
    "search_parameters = {\"penalty\":['l1','l2'], \"C\": np.logspace(0.3,0.5,1.0,2.0)}"
   ]
  },
  {
   "cell_type": "markdown",
   "metadata": {},
   "source": [
    "##### Penalty\n",
    "'l1'(Lasso) & 'l2' (Ridge) are regularization methods aimed at reducing overfitting.  Lasso attempts to eliminate features with weak predicted values while Ridge tries to reduce outliers.\n",
    "\n",
    "##### C\n",
    "C Is the how strong the Regularization tactic is applied."
   ]
  },
  {
   "cell_type": "code",
   "execution_count": 25,
   "metadata": {
    "collapsed": false
   },
   "outputs": [],
   "source": [
    "estimator = GridSearchCV(lr,search_parameters)"
   ]
  },
  {
   "cell_type": "code",
   "execution_count": 26,
   "metadata": {
    "collapsed": false
   },
   "outputs": [
    {
     "data": {
      "text/plain": [
       "GridSearchCV(cv=None, error_score='raise',\n",
       "       estimator=LogisticRegression(C=1.0, class_weight=None, dual=False, fit_intercept=True,\n",
       "          intercept_scaling=1, max_iter=100, multi_class='ovr', n_jobs=1,\n",
       "          penalty='l2', random_state=None, solver='liblinear', tol=0.0001,\n",
       "          verbose=0, warm_start=False),\n",
       "       fit_params={}, iid=True, n_jobs=1,\n",
       "       param_grid={'penalty': ['l1', 'l2'], 'C': array([ 1.99526])},\n",
       "       pre_dispatch='2*n_jobs', refit=True, scoring=None, verbose=0)"
      ]
     },
     "execution_count": 26,
     "metadata": {},
     "output_type": "execute_result"
    }
   ],
   "source": [
    "# Fit the Model on the GridSearchCV with the parameters that we want to search.\n",
    "estimator.fit(X_train, y_train)"
   ]
  },
  {
   "cell_type": "code",
   "execution_count": 27,
   "metadata": {
    "collapsed": false
   },
   "outputs": [
    {
     "name": "stdout",
     "output_type": "stream",
     "text": [
      "1.99526231497\n",
      "{'penalty': 'l1', 'C': 1.9952623149688795}\n",
      "0.815485362096\n"
     ]
    }
   ],
   "source": [
    "# Return Optimized Parameters.  \n",
    "print estimator.best_estimator_.C\n",
    "print estimator.best_params_\n",
    "print estimator.best_score_"
   ]
  },
  {
   "cell_type": "markdown",
   "metadata": {},
   "source": [
    "##### Recursive Feature Selection/Elimination\n",
    "Attempting to find the features that have the greatest predictive power to eliminate feature noise.  This is probably won't be very useful as we are dealing with a time series to features are related to and dependent (to an extend) on others."
   ]
  },
  {
   "cell_type": "code",
   "execution_count": 28,
   "metadata": {
    "collapsed": true
   },
   "outputs": [],
   "source": [
    "lr = LogisticRegression()\n",
    "from sklearn.feature_selection import RFECV\n",
    "esteam = lr.fit(X_train, y_train)\n",
    "selector = RFECV(esteam,step =1, cv =5)\n",
    "column_RFECV = selector.fit(X_train, y_train)"
   ]
  },
  {
   "cell_type": "code",
   "execution_count": 29,
   "metadata": {
    "collapsed": false
   },
   "outputs": [
    {
     "name": "stdout",
     "output_type": "stream",
     "text": [
      "[False False  True False False False False False False False False False\n",
      " False False False False False False False False False False False False\n",
      " False False False]\n",
      "[ 8 18  1  3 12  7 14 21  4  5 15 26 24 25  6  2 22 20 19 23 16 10  9 11 13\n",
      " 17 27]\n",
      "[ 0.82571468  0.82122087  0.81616992  0.81608433  0.81398765  0.81531417\n",
      "  0.81458678  0.81505752  0.81475784  0.81471494  0.81471491  0.81394467\n",
      "  0.81385914  0.81437273  0.81390208  0.81403045  0.81403047  0.81411606\n",
      "  0.8142445   0.81433011  0.81433011  0.81458684  0.8147153   0.81462971\n",
      "  0.81462971  0.81471529  0.81471529]\n",
      "LogisticRegression(C=1.0, class_weight=None, dual=False, fit_intercept=True,\n",
      "          intercept_scaling=1, max_iter=100, multi_class='ovr', n_jobs=1,\n",
      "          penalty='l2', random_state=None, solver='liblinear', tol=0.0001,\n",
      "          verbose=0, warm_start=False)\n"
     ]
    }
   ],
   "source": [
    "print column_RFECV.support_\n",
    "print column_RFECV.ranking_\n",
    "print column_RFECV.grid_scores_\n",
    "print column_RFECV.estimator_ "
   ]
  },
  {
   "cell_type": "markdown",
   "metadata": {},
   "source": [
    "#### Confusion Matrix"
   ]
  },
  {
   "cell_type": "code",
   "execution_count": 12,
   "metadata": {
    "collapsed": false
   },
   "outputs": [
    {
     "data": {
      "text/html": [
       "<div>\n",
       "<table border=\"1\" class=\"dataframe\">\n",
       "  <thead>\n",
       "    <tr style=\"text-align: right;\">\n",
       "      <th></th>\n",
       "      <th>Predicted No</th>\n",
       "      <th>Predicted Yes</th>\n",
       "    </tr>\n",
       "    <tr>\n",
       "      <th>index</th>\n",
       "      <th></th>\n",
       "      <th></th>\n",
       "    </tr>\n",
       "  </thead>\n",
       "  <tbody>\n",
       "    <tr>\n",
       "      <th>Actual No</th>\n",
       "      <td>True Negative</td>\n",
       "      <td>False Positive</td>\n",
       "    </tr>\n",
       "    <tr>\n",
       "      <th>Actual Yes</th>\n",
       "      <td>False Negative</td>\n",
       "      <td>True Positive</td>\n",
       "    </tr>\n",
       "  </tbody>\n",
       "</table>\n",
       "</div>"
      ],
      "text/plain": [
       "              Predicted No   Predicted Yes\n",
       "index                                     \n",
       "Actual No    True Negative  False Positive\n",
       "Actual Yes  False Negative   True Positive"
      ]
     },
     "execution_count": 12,
     "metadata": {},
     "output_type": "execute_result"
    }
   ],
   "source": [
    "cm"
   ]
  },
  {
   "cell_type": "code",
   "execution_count": 86,
   "metadata": {
    "collapsed": false
   },
   "outputs": [
    {
     "data": {
      "text/plain": [
       "array([[4454,  897],\n",
       "       [ 158,  332]])"
      ]
     },
     "execution_count": 86,
     "metadata": {},
     "output_type": "execute_result"
    }
   ],
   "source": [
    "confusion_matrix(predictions, y_test)"
   ]
  },
  {
   "cell_type": "markdown",
   "metadata": {},
   "source": []
  },
  {
   "cell_type": "markdown",
   "metadata": {},
   "source": [
    "#### Classification/Presicion Recall Report"
   ]
  },
  {
   "cell_type": "code",
   "execution_count": 76,
   "metadata": {
    "collapsed": false
   },
   "outputs": [
    {
     "name": "stdout",
     "output_type": "stream",
     "text": [
      "             precision    recall  f1-score   support\n",
      "\n",
      "          0       0.83      0.97      0.89      4612\n",
      "          1       0.68      0.27      0.39      1229\n",
      "\n",
      "avg / total       0.80      0.82      0.79      5841\n",
      "\n"
     ]
    }
   ],
   "source": [
    "print metrics.classification_report(y_test, predictions)\n"
   ]
  },
  {
   "cell_type": "markdown",
   "metadata": {},
   "source": [
    "### Model Score"
   ]
  },
  {
   "cell_type": "code",
   "execution_count": 87,
   "metadata": {
    "collapsed": false
   },
   "outputs": [
    {
     "data": {
      "text/plain": [
       "0.81938024310905666"
      ]
     },
     "execution_count": 87,
     "metadata": {},
     "output_type": "execute_result"
    }
   ],
   "source": [
    "lr.score(X_test, y_test)"
   ]
  },
  {
   "cell_type": "markdown",
   "metadata": {},
   "source": [
    "Slightly better than 78% so we can see that the model does have some predictive capabilities."
   ]
  },
  {
   "cell_type": "markdown",
   "metadata": {},
   "source": [
    "# Dataset 2 Modelleing:\n",
    "#### Logistic Regression\n",
    "#### K- Nearest Neighbors\n",
    "#### SVM Logistic Classifier\n",
    "Building another model using a dataset that substitutes monthly values for 6 month averages."
   ]
  },
  {
   "cell_type": "code",
   "execution_count": 33,
   "metadata": {
    "collapsed": false
   },
   "outputs": [],
   "source": [
    "cdf2 = cdf1\n",
    "cdf2['pay_rate'] = cdf2['PAY_0']+cdf2['PAY_2']+cdf2['PAY_3']+cdf2['PAY_4']+cdf2['PAY_5']+cdf2['PAY_6']\n",
    "cdf2['pay_avg'] = cdf2['pay_rate']/6\n",
    "cdf2.drop(['PAY_0','PAY_2','PAY_3','PAY_4','PAY_5','PAY_6',\n",
    "          'BILL_AMT1','BILL_AMT2','BILL_AMT3','BILL_AMT4','BILL_AMT5','BILL_AMT6',\n",
    "          'PAY_AMT1','PAY_AMT2','PAY_AMT3','PAY_AMT4','PAY_AMT5','PAY_AMT6',\n",
    "          'pay_rate'], inplace = True, axis = 1)"
   ]
  },
  {
   "cell_type": "code",
   "execution_count": 34,
   "metadata": {
    "collapsed": false
   },
   "outputs": [
    {
     "data": {
      "text/plain": [
       "ID              int64\n",
       "LIMIT_BAL       int64\n",
       "AGE             int64\n",
       "default         int64\n",
       "sex           float64\n",
       "ED_GS         float64\n",
       "ED_U          float64\n",
       "ED_HS         float64\n",
       "rs_married    float64\n",
       "rs_single     float64\n",
       "pay_ratio     float64\n",
       "pay_avg       float64\n",
       "dtype: object"
      ]
     },
     "execution_count": 34,
     "metadata": {},
     "output_type": "execute_result"
    }
   ],
   "source": [
    "cdf2.dtypes"
   ]
  },
  {
   "cell_type": "code",
   "execution_count": 35,
   "metadata": {
    "collapsed": true
   },
   "outputs": [],
   "source": [
    "X2 = cdf2.drop(['default','ID'], axis = 1)\n",
    "# zero Null values\n",
    "X2 = X2.as_matrix(columns=None)\n",
    "#Zero null values, 128 infinite values\n",
    "X2 = np.nan_to_num(X2)\n",
    "# zero null values, zero infinite values"
   ]
  },
  {
   "cell_type": "code",
   "execution_count": 36,
   "metadata": {
    "collapsed": true
   },
   "outputs": [],
   "source": [
    "# Scale the dataset\n",
    "X2 = preprocessing.scale(X2)\n",
    "# remove new row of nans. \n",
    "X2 = X2[:,~np.all(np.isnan(X2), axis=0)]\n",
    "#Accidentally converted a whole column to Nans which have now been dropped.  "
   ]
  },
  {
   "cell_type": "code",
   "execution_count": 40,
   "metadata": {
    "collapsed": false
   },
   "outputs": [
    {
     "data": {
      "text/html": [
       "<div>\n",
       "<table border=\"1\" class=\"dataframe\">\n",
       "  <thead>\n",
       "    <tr style=\"text-align: right;\">\n",
       "      <th></th>\n",
       "      <th>0</th>\n",
       "      <th>1</th>\n",
       "      <th>2</th>\n",
       "      <th>3</th>\n",
       "      <th>4</th>\n",
       "      <th>5</th>\n",
       "      <th>6</th>\n",
       "      <th>7</th>\n",
       "      <th>8</th>\n",
       "    </tr>\n",
       "  </thead>\n",
       "  <tbody>\n",
       "    <tr>\n",
       "      <th>0</th>\n",
       "      <td>-1.126550</td>\n",
       "      <td>-1.243210</td>\n",
       "      <td>-0.811439</td>\n",
       "      <td>-0.67331</td>\n",
       "      <td>1.121218</td>\n",
       "      <td>-0.42679</td>\n",
       "      <td>1.097566</td>\n",
       "      <td>-1.069928</td>\n",
       "      <td>-0.199432</td>\n",
       "    </tr>\n",
       "    <tr>\n",
       "      <th>1</th>\n",
       "      <td>-0.356124</td>\n",
       "      <td>-1.026039</td>\n",
       "      <td>-0.811439</td>\n",
       "      <td>-0.67331</td>\n",
       "      <td>1.121218</td>\n",
       "      <td>-0.42679</td>\n",
       "      <td>-0.911107</td>\n",
       "      <td>0.934642</td>\n",
       "      <td>0.666626</td>\n",
       "    </tr>\n",
       "    <tr>\n",
       "      <th>2</th>\n",
       "      <td>-0.587252</td>\n",
       "      <td>-0.157355</td>\n",
       "      <td>-0.811439</td>\n",
       "      <td>-0.67331</td>\n",
       "      <td>1.121218</td>\n",
       "      <td>-0.42679</td>\n",
       "      <td>-0.911107</td>\n",
       "      <td>0.934642</td>\n",
       "      <td>0.146991</td>\n",
       "    </tr>\n",
       "    <tr>\n",
       "      <th>3</th>\n",
       "      <td>-0.895422</td>\n",
       "      <td>0.168401</td>\n",
       "      <td>-0.811439</td>\n",
       "      <td>-0.67331</td>\n",
       "      <td>1.121218</td>\n",
       "      <td>-0.42679</td>\n",
       "      <td>1.097566</td>\n",
       "      <td>-1.069928</td>\n",
       "      <td>0.146991</td>\n",
       "    </tr>\n",
       "    <tr>\n",
       "      <th>4</th>\n",
       "      <td>-0.895422</td>\n",
       "      <td>2.340112</td>\n",
       "      <td>1.232379</td>\n",
       "      <td>-0.67331</td>\n",
       "      <td>1.121218</td>\n",
       "      <td>-0.42679</td>\n",
       "      <td>1.097566</td>\n",
       "      <td>-1.069928</td>\n",
       "      <td>-0.199432</td>\n",
       "    </tr>\n",
       "  </tbody>\n",
       "</table>\n",
       "</div>"
      ],
      "text/plain": [
       "          0         1         2        3         4        5         6  \\\n",
       "0 -1.126550 -1.243210 -0.811439 -0.67331  1.121218 -0.42679  1.097566   \n",
       "1 -0.356124 -1.026039 -0.811439 -0.67331  1.121218 -0.42679 -0.911107   \n",
       "2 -0.587252 -0.157355 -0.811439 -0.67331  1.121218 -0.42679 -0.911107   \n",
       "3 -0.895422  0.168401 -0.811439 -0.67331  1.121218 -0.42679  1.097566   \n",
       "4 -0.895422  2.340112  1.232379 -0.67331  1.121218 -0.42679  1.097566   \n",
       "\n",
       "          7         8  \n",
       "0 -1.069928 -0.199432  \n",
       "1  0.934642  0.666626  \n",
       "2  0.934642  0.146991  \n",
       "3 -1.069928  0.146991  \n",
       "4 -1.069928 -0.199432  "
      ]
     },
     "execution_count": 40,
     "metadata": {},
     "output_type": "execute_result"
    }
   ],
   "source": [
    "xert2 = pd.DataFrame(data=X2)\n",
    "xert2.head()"
   ]
  },
  {
   "cell_type": "code",
   "execution_count": 41,
   "metadata": {
    "collapsed": true
   },
   "outputs": [],
   "source": [
    "y2 = cdf2['default']\n",
    "X_train2, X_test2, y_train2, y_test2 = train_test_split(X2,y2, test_size = 0.3)"
   ]
  },
  {
   "cell_type": "code",
   "execution_count": 47,
   "metadata": {
    "collapsed": false
   },
   "outputs": [],
   "source": [
    "# I got the parameters from the below gridsearch\n",
    "\n",
    "lr = LogisticRegression(penalty = 'l1', C = 1.9952623149688795)\n",
    "lr.fit(X_train2, y_train2)\n",
    "predictions = lr.predict(X_test2)"
   ]
  },
  {
   "cell_type": "code",
   "execution_count": 48,
   "metadata": {
    "collapsed": false
   },
   "outputs": [
    {
     "data": {
      "text/plain": [
       "0.80552385300159779"
      ]
     },
     "execution_count": 48,
     "metadata": {},
     "output_type": "execute_result"
    }
   ],
   "source": [
    "lr.score(X_test2 ,y_test2)"
   ]
  },
  {
   "cell_type": "code",
   "execution_count": 44,
   "metadata": {
    "collapsed": false
   },
   "outputs": [],
   "source": [
    "lr = LogisticRegression()\n",
    "search_parameters = {\"penalty\":['l1','l2'], \"C\": np.logspace(0.3,0.5,1.0,2.0)}\n",
    "estimator2 = GridSearchCV(lr,search_parameters)\n",
    "predictor2 = estimator2.fit(X_train2, y_train2)\n"
   ]
  },
  {
   "cell_type": "code",
   "execution_count": 45,
   "metadata": {
    "collapsed": false
   },
   "outputs": [
    {
     "name": "stdout",
     "output_type": "stream",
     "text": [
      "1.99526231497\n",
      "{'penalty': 'l1', 'C': 1.9952623149688795}\n",
      "0.815485362096\n"
     ]
    }
   ],
   "source": [
    "# Return Optimized Parameters.  \n",
    "print estimator.best_estimator_.C\n",
    "print estimator.best_params_\n",
    "print estimator.best_score_"
   ]
  },
  {
   "cell_type": "markdown",
   "metadata": {
    "collapsed": false
   },
   "source": [
    "#### KNN Classifier"
   ]
  },
  {
   "cell_type": "code",
   "execution_count": 197,
   "metadata": {
    "collapsed": false
   },
   "outputs": [
    {
     "data": {
      "text/plain": [
       "0.80849121205204288"
      ]
     },
     "execution_count": 197,
     "metadata": {},
     "output_type": "execute_result"
    }
   ],
   "source": [
    "from sklearn.neighbors import KNeighborsClassifier\n",
    "KNC = KNeighborsClassifier(n_neighbors = 20)\n",
    "KNC.fit(X_train2, y_train2)\n",
    "KNC.score(X_test2,y_test2)"
   ]
  },
  {
   "cell_type": "code",
   "execution_count": null,
   "metadata": {
    "collapsed": true
   },
   "outputs": [],
   "source": []
  },
  {
   "cell_type": "code",
   "execution_count": null,
   "metadata": {
    "collapsed": true
   },
   "outputs": [],
   "source": [
    "•\t-  Either include more model types or expand justification of focus on logistic regression \n",
    "•\t-  Explain parameters that grid search points you at \n",
    "•\t-  Again, strong project, but sort of drops off at end - finish it out strong \n",
    "•\t-  Consider stakeholders and finish with analysis of who would benefit from which bias/variance \n",
    "tradeoff (what are the opportunity costs to each) \n",
    "•\tAnnotate noting meathod and include it in readme.  Make sure all the notes are done in the same fashion\n",
    "•\tComplete the KNN Model\n",
    "•\tCompare scores of Models & Draw conclusions\n",
    "•\tExplained the Parameters being searched.\n",
    "•\tDo interpretation of results.  Confusion matrix and false positives. \n"
   ]
  }
 ],
 "metadata": {
  "kernelspec": {
   "display_name": "Python 2",
   "language": "python",
   "name": "python2"
  },
  "language_info": {
   "codemirror_mode": {
    "name": "ipython",
    "version": 2
   },
   "file_extension": ".py",
   "mimetype": "text/x-python",
   "name": "python",
   "nbconvert_exporter": "python",
   "pygments_lexer": "ipython2",
   "version": "2.7.11"
  }
 },
 "nbformat": 4,
 "nbformat_minor": 0
}
