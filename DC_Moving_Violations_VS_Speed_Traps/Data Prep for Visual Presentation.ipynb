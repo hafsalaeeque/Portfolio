{
 "cells": [
  {
   "cell_type": "code",
   "execution_count": 1,
   "metadata": {
    "collapsed": true
   },
   "outputs": [],
   "source": [
    "import pandas as pd\n",
    "import numpy as np"
   ]
  },
  {
   "cell_type": "code",
   "execution_count": 2,
   "metadata": {
    "collapsed": true
   },
   "outputs": [],
   "source": [
    "import matplotlib.pyplot as plt\n",
    "import seaborn as sns\n",
    "\n",
    "% matplotlib inline"
   ]
  },
  {
   "cell_type": "code",
   "execution_count": 3,
   "metadata": {
    "collapsed": false
   },
   "outputs": [
    {
     "name": "stderr",
     "output_type": "stream",
     "text": [
      "/Users/samuelstack/anaconda/lib/python2.7/site-packages/IPython/core/interactiveshell.py:2723: DtypeWarning: Columns (4,5,6,47) have mixed types. Specify dtype option on import or set low_memory=False.\n",
      "  interactivity=interactivity, compiler=compiler, result=result)\n"
     ]
    }
   ],
   "source": [
    "crash = pd.read_csv('Data/Crashes_in_the_district_of_Columbia.csv')\n",
    "\n",
    "Trap_GC_Crash= pd.read_csv('crash_vs_trap.csv')\n",
    "Crash_GC_trap= pd.read_csv('trap_vs_crash.csv')\n",
    "\n",
    "mv2009 = pd.read_csv('moving_violations2009.csv')\n",
    "mv2010 = pd.read_csv('moving_violations2010.csv')\n",
    "mv2011 = pd.read_csv('moving_violations2011.csv')\n",
    "mv2012 = pd.read_csv('moving_violations2012.csv')\n",
    "mv2013 = pd.read_csv('moving_violations2013.csv')\n",
    "mv2014 = pd.read_csv('moving_violations2014.csv')\n",
    "mv2015 = pd.read_csv('moving_violations2015.csv')\n",
    "mv2016 = pd.read_csv('moving_violations2016.csv')"
   ]
  },
  {
   "cell_type": "code",
   "execution_count": 4,
   "metadata": {
    "collapsed": true
   },
   "outputs": [],
   "source": [
    "TICKETS = pd.concat([mv2009, mv2010, mv2011,mv2012,mv2013,mv2014,mv2015,mv2016])"
   ]
  },
  {
   "cell_type": "code",
   "execution_count": 51,
   "metadata": {
    "collapsed": false
   },
   "outputs": [
    {
     "data": {
      "text/plain": [
       "array(['LONGITUDE', 'LATITUDE', 'TICKETTYPE', 'FINEAMT',\n",
       "       'ACCIDENTINDICATOR', 'VIOLATIONDESC', 'DATE'], dtype=object)"
      ]
     },
     "execution_count": 51,
     "metadata": {},
     "output_type": "execute_result"
    }
   ],
   "source": [
    "TICKETS.columns.values"
   ]
  },
  {
   "cell_type": "code",
   "execution_count": null,
   "metadata": {
    "collapsed": true
   },
   "outputs": [],
   "source": [
    "[['\\xef\\xbb\\xbfX', 'Y','MAJORINJURIES','FATALITIES','WEATHER']]"
   ]
  },
  {
   "cell_type": "markdown",
   "metadata": {},
   "source": [
    "Vizualization Ideas\n",
    "\n",
    "\n",
    "\n",
    "- Money derived from tickets aggregated by the yearly level and crashes by year\n",
    "sns plots in this notebook\n",
    "\n",
    "- Map showing locations where Crashes Granger Caused Traps (TvC)\n",
    "Crash_GC_trap= pd.read_csv('trap_vs_crash.csv')\n",
    "\n",
    "- Map showing where Traps Granger Caused Crashed.  (CvT)\n",
    "Trap_GC_Crash= pd.read_csv('crash_vs_trap.csv')\n",
    "\n",
    "- Map showing Crash Fatalities and where Crashes Granger Caused Traps\n",
    "cgct_death.to_csv('Crash_gc_Trap_deaths.csv')\n",
    "tgcc_death.to_csv('Trap_gc_Crash_deaths.csv')\n",
    "-"
   ]
  },
  {
   "cell_type": "code",
   "execution_count": 5,
   "metadata": {
    "collapsed": false
   },
   "outputs": [],
   "source": [
    "TICKETS.drop('Unnamed: 0', axis =1, inplace = True)\n",
    "TICKETS['DATE'] = pd.to_datetime(TICKETS['TICKETISSUEDATE'], format = '%Y-%m-%d')\n",
    "TICKETS.drop('TICKETISSUEDATE', axis =1, inplace = True)"
   ]
  },
  {
   "cell_type": "markdown",
   "metadata": {
    "collapsed": true
   },
   "source": [
    "### Tickets given out by type"
   ]
  },
  {
   "cell_type": "code",
   "execution_count": 12,
   "metadata": {
    "collapsed": false
   },
   "outputs": [],
   "source": [
    "tick_counts = TICKETS['VIOLATIONDESC'].value_counts()\n",
    "#sns.barplot(TICKETS['VIOLATIONDESC'])"
   ]
  },
  {
   "cell_type": "code",
   "execution_count": 46,
   "metadata": {
    "collapsed": false
   },
   "outputs": [],
   "source": [
    "# Distribution of ticlet types\n",
    "ticks = pd.DataFrame(TICKETS['VIOLATIONDESC'].value_counts())\n",
    "ticks = ticks[ticks['VIOLATIONDESC'] > 5000]\n",
    "ticks.to_csv('ticket_type_counts.csv')"
   ]
  },
  {
   "cell_type": "code",
   "execution_count": 48,
   "metadata": {
    "collapsed": false
   },
   "outputs": [
    {
     "data": {
      "text/plain": [
       "<matplotlib.axes._subplots.AxesSubplot at 0x11dd2bf90>"
      ]
     },
     "execution_count": 48,
     "metadata": {},
     "output_type": "execute_result"
    },
    {
     "data": {
      "image/png": "[encoded data removed]",
      "text/plain": [
       "<matplotlib.figure.Figure at 0x11e26ab50>"
      ]
     },
     "metadata": {},
     "output_type": "display_data"
    }
   ],
   "source": [
    "ticks.reset_index(inplace = True)\n",
    "sns.barplot(x = ticks['index'], y = ticks['VIOLATIONDESC'])"
   ]
  },
  {
   "cell_type": "code",
   "execution_count": 164,
   "metadata": {
    "collapsed": false
   },
   "outputs": [
    {
     "data": {
      "text/html": [
       "<div>\n",
       "<table border=\"1\" class=\"dataframe\">\n",
       "  <thead>\n",
       "    <tr style=\"text-align: right;\">\n",
       "      <th></th>\n",
       "      <th>index</th>\n",
       "      <th>VIOLATIONDESC</th>\n",
       "    </tr>\n",
       "  </thead>\n",
       "  <tbody>\n",
       "    <tr>\n",
       "      <th>0</th>\n",
       "      <td>SPEED 11-15 MPH OVER THE SPEED LIMIT</td>\n",
       "      <td>3062818</td>\n",
       "    </tr>\n",
       "    <tr>\n",
       "      <th>1</th>\n",
       "      <td>SPEED 16-20 MPH OVER THE SPEED LIMIT</td>\n",
       "      <td>740417</td>\n",
       "    </tr>\n",
       "    <tr>\n",
       "      <th>2</th>\n",
       "      <td>FAIL TO STOP PER REGULATIONS FACING RED SIGNAL</td>\n",
       "      <td>562559</td>\n",
       "    </tr>\n",
       "    <tr>\n",
       "      <th>3</th>\n",
       "      <td>SPEED 21-25 MPH OVER THE SPEED LIMIT</td>\n",
       "      <td>140873</td>\n",
       "    </tr>\n",
       "    <tr>\n",
       "      <th>4</th>\n",
       "      <td>PASSING STOP SIGN WITHOUT COMING TO A FULL STOP</td>\n",
       "      <td>64869</td>\n",
       "    </tr>\n",
       "    <tr>\n",
       "      <th>5</th>\n",
       "      <td>SPEED 26-30 MPH OVER THE SPEED LIMIT</td>\n",
       "      <td>32194</td>\n",
       "    </tr>\n",
       "    <tr>\n",
       "      <th>6</th>\n",
       "      <td>DISTRACTED DRIVING USING CELL PHONE, OTHER DEVICE</td>\n",
       "      <td>31075</td>\n",
       "    </tr>\n",
       "    <tr>\n",
       "      <th>7</th>\n",
       "      <td>FAIL TO DISPLAY PROOF OF VEHICLE INSURANCE</td>\n",
       "      <td>22471</td>\n",
       "    </tr>\n",
       "    <tr>\n",
       "      <th>8</th>\n",
       "      <td>TURNING LEFT WHERE LEFT TURNS ARE PROHIBITED</td>\n",
       "      <td>19810</td>\n",
       "    </tr>\n",
       "    <tr>\n",
       "      <th>9</th>\n",
       "      <td>OWNER OPERATE OR PERMIT OPERATION OF UNINSRD VEH</td>\n",
       "      <td>19169</td>\n",
       "    </tr>\n",
       "  </tbody>\n",
       "</table>\n",
       "</div>"
      ],
      "text/plain": [
       "                                               index  VIOLATIONDESC\n",
       "0               SPEED 11-15 MPH OVER THE SPEED LIMIT        3062818\n",
       "1               SPEED 16-20 MPH OVER THE SPEED LIMIT         740417\n",
       "2     FAIL TO STOP PER REGULATIONS FACING RED SIGNAL         562559\n",
       "3               SPEED 21-25 MPH OVER THE SPEED LIMIT         140873\n",
       "4    PASSING STOP SIGN WITHOUT COMING TO A FULL STOP          64869\n",
       "5               SPEED 26-30 MPH OVER THE SPEED LIMIT          32194\n",
       "6  DISTRACTED DRIVING USING CELL PHONE, OTHER DEVICE          31075\n",
       "7         FAIL TO DISPLAY PROOF OF VEHICLE INSURANCE          22471\n",
       "8       TURNING LEFT WHERE LEFT TURNS ARE PROHIBITED          19810\n",
       "9   OWNER OPERATE OR PERMIT OPERATION OF UNINSRD VEH          19169"
      ]
     },
     "execution_count": 164,
     "metadata": {},
     "output_type": "execute_result"
    }
   ],
   "source": [
    "ticks.head(10)"
   ]
  },
  {
   "cell_type": "markdown",
   "metadata": {},
   "source": [
    "### Revenue by Year from tickets"
   ]
  },
  {
   "cell_type": "code",
   "execution_count": 58,
   "metadata": {
    "collapsed": false
   },
   "outputs": [],
   "source": [
    "revenue = pd.DataFrame(TICKETS['FINEAMT'].groupby(TICKETS['DATE'].dt.year).sum())\n",
    "revenue.reset_index(inplace=True)\n",
    "#revenue.to_csv('yearly_revenue.csv')\n"
   ]
  },
  {
   "cell_type": "code",
   "execution_count": 172,
   "metadata": {
    "collapsed": false
   },
   "outputs": [],
   "source": [
    "revenue['FINEAMT']=revenue['FINEAMT'].astype(str)"
   ]
  },
  {
   "cell_type": "code",
   "execution_count": 173,
   "metadata": {
    "collapsed": false
   },
   "outputs": [
    {
     "data": {
      "text/html": [
       "<div>\n",
       "<table border=\"1\" class=\"dataframe\">\n",
       "  <thead>\n",
       "    <tr style=\"text-align: right;\">\n",
       "      <th></th>\n",
       "      <th>DATE</th>\n",
       "      <th>FINEAMT</th>\n",
       "    </tr>\n",
       "  </thead>\n",
       "  <tbody>\n",
       "    <tr>\n",
       "      <th>0</th>\n",
       "      <td>2009</td>\n",
       "      <td>51197276.0</td>\n",
       "    </tr>\n",
       "    <tr>\n",
       "      <th>1</th>\n",
       "      <td>2010</td>\n",
       "      <td>62336159.0</td>\n",
       "    </tr>\n",
       "    <tr>\n",
       "      <th>2</th>\n",
       "      <td>2011</td>\n",
       "      <td>22159137.01</td>\n",
       "    </tr>\n",
       "    <tr>\n",
       "      <th>3</th>\n",
       "      <td>2012</td>\n",
       "      <td>129836261.0</td>\n",
       "    </tr>\n",
       "    <tr>\n",
       "      <th>4</th>\n",
       "      <td>2013</td>\n",
       "      <td>55281967.0</td>\n",
       "    </tr>\n",
       "    <tr>\n",
       "      <th>5</th>\n",
       "      <td>2014</td>\n",
       "      <td>48821340.5</td>\n",
       "    </tr>\n",
       "    <tr>\n",
       "      <th>6</th>\n",
       "      <td>2015</td>\n",
       "      <td>108275024.0</td>\n",
       "    </tr>\n",
       "    <tr>\n",
       "      <th>7</th>\n",
       "      <td>2016</td>\n",
       "      <td>45790362.0</td>\n",
       "    </tr>\n",
       "  </tbody>\n",
       "</table>\n",
       "</div>"
      ],
      "text/plain": [
       "   DATE      FINEAMT\n",
       "0  2009   51197276.0\n",
       "1  2010   62336159.0\n",
       "2  2011  22159137.01\n",
       "3  2012  129836261.0\n",
       "4  2013   55281967.0\n",
       "5  2014   48821340.5\n",
       "6  2015  108275024.0\n",
       "7  2016   45790362.0"
      ]
     },
     "execution_count": 173,
     "metadata": {},
     "output_type": "execute_result"
    }
   ],
   "source": [
    "revenue"
   ]
  },
  {
   "cell_type": "code",
   "execution_count": 169,
   "metadata": {
    "collapsed": false
   },
   "outputs": [
    {
     "data": {
      "text/plain": [
       "<matplotlib.axes._subplots.AxesSubplot at 0x1144f2a50>"
      ]
     },
     "execution_count": 169,
     "metadata": {},
     "output_type": "execute_result"
    },
    {
     "data": {
      "image/png": "[encoded data removed]",
      "text/plain": [
       "<matplotlib.figure.Figure at 0x120853150>"
      ]
     },
     "metadata": {},
     "output_type": "display_data"
    }
   ],
   "source": [
    "sns.barplot(x = revenue['DATE'], y = revenue['FINEAMT'])"
   ]
  },
  {
   "cell_type": "markdown",
   "metadata": {},
   "source": [
    "### Crashes per Year"
   ]
  },
  {
   "cell_type": "markdown",
   "metadata": {},
   "source": [
    "I think i can gather this from the dbscan_data.csv\n"
   ]
  },
  {
   "cell_type": "code",
   "execution_count": 85,
   "metadata": {
    "collapsed": true
   },
   "outputs": [],
   "source": [
    "data = pd.read_csv('dbscan_data.csv')"
   ]
  },
  {
   "cell_type": "code",
   "execution_count": 86,
   "metadata": {
    "collapsed": false
   },
   "outputs": [
    {
     "data": {
      "text/plain": [
       "array(['Unnamed: 0', 'CRASH', 'DATE', 'LATITUDE', 'LONGITUDE', 'TRAP'], dtype=object)"
      ]
     },
     "execution_count": 86,
     "metadata": {},
     "output_type": "execute_result"
    }
   ],
   "source": [
    "data.columns.values"
   ]
  },
  {
   "cell_type": "code",
   "execution_count": 87,
   "metadata": {
    "collapsed": true
   },
   "outputs": [],
   "source": [
    "data.dropna(inplace = True)"
   ]
  },
  {
   "cell_type": "code",
   "execution_count": 89,
   "metadata": {
    "collapsed": false
   },
   "outputs": [],
   "source": [
    "data['DATE'] = pd.to_datetime(data['DATE'], format = '%Y-%m-%d')"
   ]
  },
  {
   "cell_type": "code",
   "execution_count": 93,
   "metadata": {
    "collapsed": false
   },
   "outputs": [
    {
     "data": {
      "text/plain": [
       "<matplotlib.axes._subplots.AxesSubplot at 0x120ce34d0>"
      ]
     },
     "execution_count": 93,
     "metadata": {},
     "output_type": "execute_result"
    },
    {
     "data": {
      "image/png": "[encoded data removed]",
      "text/plain": [
       "<matplotlib.figure.Figure at 0x120c4c4d0>"
      ]
     },
     "metadata": {},
     "output_type": "display_data"
    }
   ],
   "source": [
    "yearly_crash = pd.DataFrame(data['CRASH'].groupby(data['DATE'].dt.year).sum())\n",
    "yearly_crash.reset_index(inplace = True)\n",
    "yearly_crash = yearly_crash[(yearly_crash['DATE']> 2010)]\n",
    "yearly_crash = yearly_crash[(yearly_crash['DATE']< 2016)]\n",
    "sns.barplot(x = yearly_crash['DATE'], y = yearly_crash['CRASH'])"
   ]
  },
  {
   "cell_type": "markdown",
   "metadata": {},
   "source": [
    "### Tickets Per Year"
   ]
  },
  {
   "cell_type": "code",
   "execution_count": 92,
   "metadata": {
    "collapsed": false
   },
   "outputs": [
    {
     "data": {
      "text/plain": [
       "<matplotlib.axes._subplots.AxesSubplot at 0x12085ac90>"
      ]
     },
     "execution_count": 92,
     "metadata": {},
     "output_type": "execute_result"
    },
    {
     "data": {
      "image/png": "[encoded data removed]",
      "text/plain": [
       "<matplotlib.figure.Figure at 0x1206341d0>"
      ]
     },
     "metadata": {},
     "output_type": "display_data"
    }
   ],
   "source": [
    "yearly_trap = pd.DataFrame(data['TRAP'].groupby(data['DATE'].dt.year).sum())\n",
    "yearly_trap.reset_index(inplace = True)\n",
    "yearly_trap = yearly_trap[(yearly_trap['DATE']> 2010)]\n",
    "yearly_trap = yearly_trap[(yearly_trap['DATE']< 2016)]\n",
    "sns.barplot(x = yearly_trap['DATE'], y = yearly_trap['TRAP'])"
   ]
  },
  {
   "cell_type": "markdown",
   "metadata": {},
   "source": [
    "### Crash falalities and injuries"
   ]
  },
  {
   "cell_type": "code",
   "execution_count": 136,
   "metadata": {
    "collapsed": true
   },
   "outputs": [],
   "source": [
    "# Getting the location of crashes that resulted in deaths for plotting\n",
    "fatality = crash[['\\xef\\xbb\\xbfX', 'Y','FATALITIES']]"
   ]
  },
  {
   "cell_type": "code",
   "execution_count": 137,
   "metadata": {
    "collapsed": false
   },
   "outputs": [],
   "source": [
    "fatality.rename(columns = {'\\xef\\xbb\\xbfX':'Longitude', 'Y':'Latitude'}, inplace = True)"
   ]
  },
  {
   "cell_type": "code",
   "execution_count": 138,
   "metadata": {
    "collapsed": false
   },
   "outputs": [
    {
     "name": "stderr",
     "output_type": "stream",
     "text": [
      "/Users/samuelstack/anaconda/lib/python2.7/site-packages/ipykernel/__main__.py:1: SettingWithCopyWarning: \n",
      "A value is trying to be set on a copy of a slice from a DataFrame\n",
      "\n",
      "See the caveats in the documentation: http://pandas.pydata.org/pandas-docs/stable/indexing.html#indexing-view-versus-copy\n",
      "  if __name__ == '__main__':\n"
     ]
    }
   ],
   "source": [
    "fatality.dropna(inplace = True)"
   ]
  },
  {
   "cell_type": "code",
   "execution_count": 139,
   "metadata": {
    "collapsed": false
   },
   "outputs": [],
   "source": [
    "fatality[['Latitude','Longitude']] = fatality[['Latitude','Longitude']].round(3)"
   ]
  },
  {
   "cell_type": "code",
   "execution_count": 142,
   "metadata": {
    "collapsed": false
   },
   "outputs": [
    {
     "name": "stderr",
     "output_type": "stream",
     "text": [
      "/Users/samuelstack/anaconda/lib/python2.7/site-packages/ipykernel/__main__.py:2: SettingWithCopyWarning: \n",
      "A value is trying to be set on a copy of a slice from a DataFrame\n",
      "\n",
      "See the caveats in the documentation: http://pandas.pydata.org/pandas-docs/stable/indexing.html#indexing-view-versus-copy\n",
      "  from ipykernel import kernelapp as app\n"
     ]
    }
   ],
   "source": [
    "#fatality['Event'] = 'death'\n",
    "fatality.drop('FATALITIES', axis =1 , inplace = True)"
   ]
  },
  {
   "cell_type": "code",
   "execution_count": 123,
   "metadata": {
    "collapsed": false
   },
   "outputs": [],
   "source": [
    "#TgcC = Traps Granger Cause Crashes\n",
    "#Trap_GC_Crash.head()\n",
    "#TgcC = Trap_GC_Crash[['Lag Period','Latitude','Longitude']]\n",
    "TgcC.rename(columns = {'Lag Period':'Event'}, inplace = True)"
   ]
  },
  {
   "cell_type": "code",
   "execution_count": 126,
   "metadata": {
    "collapsed": false
   },
   "outputs": [],
   "source": [
    "#CgcT = Crashes Granger Cause Traps\n",
    "#Crash_GC_trap.head()\n",
    "#CgcT = Crash_GC_trap[['Lag Period','Latitude','Longitude']]\n",
    "CgcT.rename(columns = {'Lag Period':'Event'}, inplace = True)"
   ]
  },
  {
   "cell_type": "code",
   "execution_count": 144,
   "metadata": {
    "collapsed": true
   },
   "outputs": [],
   "source": [
    "# Granger Caused Traps and Crashes over layed with the location of deaths. \n",
    "tgcc_death = pd.concat([TgcC, fatality])\n",
    "cgct_death = pd.concat([CgcT, fatality])"
   ]
  },
  {
   "cell_type": "code",
   "execution_count": 150,
   "metadata": {
    "collapsed": false
   },
   "outputs": [],
   "source": [
    "fatality.rename(columns={'Event':'Died'}, inplace = True)"
   ]
  },
  {
   "cell_type": "code",
   "execution_count": 157,
   "metadata": {
    "collapsed": false
   },
   "outputs": [],
   "source": [
    "#result = pd.concat([df1, df4], axis=1, join_axes=[df1.index])\n",
    "herp = pd.merge(left = TgcC, right = fatality, on = ['Longitude','Latitude'])"
   ]
  },
  {
   "cell_type": "code",
   "execution_count": null,
   "metadata": {
    "collapsed": true
   },
   "outputs": [],
   "source": [
    "pd.merge(left, right, how='inner', on=None, left_on=None, right_on=None,\n",
    "         left_index=False, right_index=False, sort=True,\n",
    "         suffixes=('_x', '_y'), copy=True, indicator=False)"
   ]
  },
  {
   "cell_type": "code",
   "execution_count": 160,
   "metadata": {
    "collapsed": false
   },
   "outputs": [],
   "source": [
    "# Traps that Granger caused Crashes where Deaths occured.  \n",
    "\n",
    "herp.dropna(inplace = True)\n",
    "herp.to_csv('traps_GC_Deaths.csv')"
   ]
  },
  {
   "cell_type": "code",
   "execution_count": 162,
   "metadata": {
    "collapsed": false
   },
   "outputs": [],
   "source": [
    "# Crashes that Granger caused traps were Deaths occured.\n",
    "derp = pd.merge(left = CgcT, right = fatality, on = ['Longitude','Latitude'])\n",
    "derp.dropna(inplace = True)\n",
    "derp.to_csv('deaths_GC_crashes.csv')"
   ]
  },
  {
   "cell_type": "code",
   "execution_count": 146,
   "metadata": {
    "collapsed": false
   },
   "outputs": [],
   "source": [
    "cgct_death.to_csv('Crash_gc_Trap_deaths.csv')\n",
    "tgcc_death.to_csv('Trap_gc_Crash_deaths.csv')"
   ]
  }
 ],
 "metadata": {
  "kernelspec": {
   "display_name": "Python 2",
   "language": "python",
   "name": "python2"
  },
  "language_info": {
   "codemirror_mode": {
    "name": "ipython",
    "version": 2
   },
   "file_extension": ".py",
   "mimetype": "text/x-python",
   "name": "python",
   "nbconvert_exporter": "python",
   "pygments_lexer": "ipython2",
   "version": "2.7.11"
  }
 },
 "nbformat": 4,
 "nbformat_minor": 0
}
