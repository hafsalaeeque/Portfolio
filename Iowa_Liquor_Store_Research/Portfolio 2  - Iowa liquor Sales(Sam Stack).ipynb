{
 "cells": [
  {
   "cell_type": "markdown",
   "metadata": {},
   "source": [
    "### Hello All!!!\n",
    "\n",
    "Given my Marketing background I thought it would be fun to see how I can combined what data science skills I have learned with my marketing knowledge in somewhat of a 'Market Research' problem.\n",
    "\n",
    "Iowa has a Liquor problem!  Not the 'AA' type, but that there are not enough stores to handle the statewide alcohol demand.  Using the statewide sales data from 2016 and some of 2016 I'm going to identify some ideal county locations for opening some new stores.  "
   ]
  },
  {
   "cell_type": "code",
   "execution_count": 1,
   "metadata": {
    "collapsed": false
   },
   "outputs": [
    {
     "name": "stderr",
     "output_type": "stream",
     "text": [
      "/Users/samuelstack/anaconda/lib/python2.7/site-packages/IPython/core/interactiveshell.py:2723: DtypeWarning: Columns (3) have mixed types. Specify dtype option on import or set low_memory=False.\n",
      "  interactivity=interactivity, compiler=compiler, result=result)\n"
     ]
    }
   ],
   "source": [
    "#Necessary imports\n",
    "import pandas as pd\n",
    "\n",
    "# Load Dataset\n",
    "df = pd.read_csv('Data/Iowa_Liquor_Sales_reduced.csv')\n",
    "## Transform the dates if needed, e.g.\n",
    "df[\"Date\"] = pd.to_datetime(df[\"Date\"], format=\"%m/%d/%Y\")\n",
    "\n",
    "# lowercase 'y' indicates a 2 digit year, i.e '95'.\n",
    "# uppercase 'Y' indicates a 4 digit year , i.e '1995'"
   ]
  },
  {
   "cell_type": "code",
   "execution_count": 2,
   "metadata": {
    "collapsed": false
   },
   "outputs": [
    {
     "data": {
      "text/html": [
       "<div>\n",
       "<table border=\"1\" class=\"dataframe\">\n",
       "  <thead>\n",
       "    <tr style=\"text-align: right;\">\n",
       "      <th></th>\n",
       "      <th>Date</th>\n",
       "      <th>Store Number</th>\n",
       "      <th>City</th>\n",
       "      <th>Zip Code</th>\n",
       "      <th>County Number</th>\n",
       "      <th>County</th>\n",
       "      <th>Category</th>\n",
       "      <th>Category Name</th>\n",
       "      <th>Vendor Number</th>\n",
       "      <th>Item Number</th>\n",
       "      <th>Item Description</th>\n",
       "      <th>Bottle Volume (ml)</th>\n",
       "      <th>State Bottle Cost</th>\n",
       "      <th>State Bottle Retail</th>\n",
       "      <th>Bottles Sold</th>\n",
       "      <th>Sale (Dollars)</th>\n",
       "      <th>Volume Sold (Liters)</th>\n",
       "      <th>Volume Sold (Gallons)</th>\n",
       "    </tr>\n",
       "  </thead>\n",
       "  <tbody>\n",
       "    <tr>\n",
       "      <th>0</th>\n",
       "      <td>2016-03-31</td>\n",
       "      <td>5029</td>\n",
       "      <td>DAVENPORT</td>\n",
       "      <td>52806</td>\n",
       "      <td>82.0</td>\n",
       "      <td>Scott</td>\n",
       "      <td>1022100.0</td>\n",
       "      <td>TEQUILA</td>\n",
       "      <td>370</td>\n",
       "      <td>87152</td>\n",
       "      <td>Avion Silver</td>\n",
       "      <td>375</td>\n",
       "      <td>$9.99</td>\n",
       "      <td>$14.99</td>\n",
       "      <td>12</td>\n",
       "      <td>$179.88</td>\n",
       "      <td>4.5</td>\n",
       "      <td>1.19</td>\n",
       "    </tr>\n",
       "    <tr>\n",
       "      <th>1</th>\n",
       "      <td>2016-03-31</td>\n",
       "      <td>5029</td>\n",
       "      <td>DAVENPORT</td>\n",
       "      <td>52806</td>\n",
       "      <td>82.0</td>\n",
       "      <td>Scott</td>\n",
       "      <td>1022100.0</td>\n",
       "      <td>TEQUILA</td>\n",
       "      <td>395</td>\n",
       "      <td>89197</td>\n",
       "      <td>Jose Cuervo Especial Reposado Tequila</td>\n",
       "      <td>1000</td>\n",
       "      <td>$12.50</td>\n",
       "      <td>$18.75</td>\n",
       "      <td>2</td>\n",
       "      <td>$37.50</td>\n",
       "      <td>2.0</td>\n",
       "      <td>0.53</td>\n",
       "    </tr>\n",
       "    <tr>\n",
       "      <th>2</th>\n",
       "      <td>2016-03-31</td>\n",
       "      <td>4959</td>\n",
       "      <td>CEDAR FALLS</td>\n",
       "      <td>50613</td>\n",
       "      <td>7.0</td>\n",
       "      <td>Black Hawk</td>\n",
       "      <td>1071100.0</td>\n",
       "      <td>AMERICAN COCKTAILS</td>\n",
       "      <td>380</td>\n",
       "      <td>63959</td>\n",
       "      <td>Uv Blue Raspberry Lemonade Pet</td>\n",
       "      <td>1750</td>\n",
       "      <td>$5.97</td>\n",
       "      <td>$8.96</td>\n",
       "      <td>6</td>\n",
       "      <td>$53.76</td>\n",
       "      <td>10.5</td>\n",
       "      <td>2.77</td>\n",
       "    </tr>\n",
       "  </tbody>\n",
       "</table>\n",
       "</div>"
      ],
      "text/plain": [
       "        Date  Store Number         City Zip Code  County Number      County  \\\n",
       "0 2016-03-31          5029    DAVENPORT    52806           82.0       Scott   \n",
       "1 2016-03-31          5029    DAVENPORT    52806           82.0       Scott   \n",
       "2 2016-03-31          4959  CEDAR FALLS    50613            7.0  Black Hawk   \n",
       "\n",
       "    Category       Category Name  Vendor Number  Item Number  \\\n",
       "0  1022100.0             TEQUILA            370        87152   \n",
       "1  1022100.0             TEQUILA            395        89197   \n",
       "2  1071100.0  AMERICAN COCKTAILS            380        63959   \n",
       "\n",
       "                        Item Description  Bottle Volume (ml)  \\\n",
       "0                           Avion Silver                 375   \n",
       "1  Jose Cuervo Especial Reposado Tequila                1000   \n",
       "2         Uv Blue Raspberry Lemonade Pet                1750   \n",
       "\n",
       "  State Bottle Cost State Bottle Retail  Bottles Sold Sale (Dollars)  \\\n",
       "0             $9.99              $14.99            12        $179.88   \n",
       "1            $12.50              $18.75             2         $37.50   \n",
       "2             $5.97               $8.96             6         $53.76   \n",
       "\n",
       "   Volume Sold (Liters)  Volume Sold (Gallons)  \n",
       "0                   4.5                   1.19  \n",
       "1                   2.0                   0.53  \n",
       "2                  10.5                   2.77  "
      ]
     },
     "execution_count": 2,
     "metadata": {},
     "output_type": "execute_result"
    }
   ],
   "source": [
    "# Checking What features are in this data and what the way the data is entered.\n",
    "df.head(3)"
   ]
  },
  {
   "cell_type": "code",
   "execution_count": 3,
   "metadata": {
    "collapsed": false
   },
   "outputs": [],
   "source": [
    "# We're going to remove all rows from 2016 and focus on using the 2015 data which we have a whole years worth.  \n",
    "df2015 = df[(df['Date'] < '2016-01-01')]"
   ]
  },
  {
   "cell_type": "code",
   "execution_count": 6,
   "metadata": {
    "collapsed": false
   },
   "outputs": [
    {
     "data": {
      "text/plain": [
       "(2184483, 18)"
      ]
     },
     "execution_count": 6,
     "metadata": {},
     "output_type": "execute_result"
    }
   ],
   "source": [
    "df2015.shape\n",
    "# This is a pretty large dataset "
   ]
  },
  {
   "cell_type": "code",
   "execution_count": 7,
   "metadata": {
    "collapsed": false
   },
   "outputs": [
    {
     "data": {
      "text/html": [
       "<div>\n",
       "<table border=\"1\" class=\"dataframe\">\n",
       "  <thead>\n",
       "    <tr style=\"text-align: right;\">\n",
       "      <th></th>\n",
       "      <th>Store Number</th>\n",
       "      <th>County Number</th>\n",
       "      <th>Category</th>\n",
       "      <th>Vendor Number</th>\n",
       "      <th>Item Number</th>\n",
       "      <th>Bottle Volume (ml)</th>\n",
       "      <th>Bottles Sold</th>\n",
       "      <th>Volume Sold (Liters)</th>\n",
       "      <th>Volume Sold (Gallons)</th>\n",
       "    </tr>\n",
       "  </thead>\n",
       "  <tbody>\n",
       "    <tr>\n",
       "      <th>count</th>\n",
       "      <td>2.184483e+06</td>\n",
       "      <td>2.183364e+06</td>\n",
       "      <td>2.183710e+06</td>\n",
       "      <td>2.184483e+06</td>\n",
       "      <td>2.184483e+06</td>\n",
       "      <td>2.184483e+06</td>\n",
       "      <td>2.184483e+06</td>\n",
       "      <td>2.184483e+06</td>\n",
       "      <td>2.184483e+06</td>\n",
       "    </tr>\n",
       "    <tr>\n",
       "      <th>mean</th>\n",
       "      <td>3.578517e+03</td>\n",
       "      <td>5.719683e+01</td>\n",
       "      <td>1.044253e+06</td>\n",
       "      <td>2.559387e+02</td>\n",
       "      <td>4.596141e+04</td>\n",
       "      <td>9.248151e+02</td>\n",
       "      <td>9.875308e+00</td>\n",
       "      <td>8.980478e+00</td>\n",
       "      <td>2.372598e+00</td>\n",
       "    </tr>\n",
       "    <tr>\n",
       "      <th>std</th>\n",
       "      <td>9.435823e+02</td>\n",
       "      <td>2.729248e+01</td>\n",
       "      <td>5.254551e+04</td>\n",
       "      <td>1.409934e+02</td>\n",
       "      <td>5.263435e+04</td>\n",
       "      <td>5.211457e+02</td>\n",
       "      <td>2.369368e+01</td>\n",
       "      <td>2.834942e+01</td>\n",
       "      <td>7.489113e+00</td>\n",
       "    </tr>\n",
       "    <tr>\n",
       "      <th>min</th>\n",
       "      <td>2.106000e+03</td>\n",
       "      <td>1.000000e+00</td>\n",
       "      <td>1.011100e+06</td>\n",
       "      <td>1.000000e+01</td>\n",
       "      <td>1.730000e+02</td>\n",
       "      <td>0.000000e+00</td>\n",
       "      <td>1.000000e+00</td>\n",
       "      <td>0.000000e+00</td>\n",
       "      <td>0.000000e+00</td>\n",
       "    </tr>\n",
       "    <tr>\n",
       "      <th>25%</th>\n",
       "      <td>2.603000e+03</td>\n",
       "      <td>3.100000e+01</td>\n",
       "      <td>1.012200e+06</td>\n",
       "      <td>1.150000e+02</td>\n",
       "      <td>2.682800e+04</td>\n",
       "      <td>7.500000e+02</td>\n",
       "      <td>2.000000e+00</td>\n",
       "      <td>1.500000e+00</td>\n",
       "      <td>4.000000e-01</td>\n",
       "    </tr>\n",
       "    <tr>\n",
       "      <th>50%</th>\n",
       "      <td>3.713000e+03</td>\n",
       "      <td>6.200000e+01</td>\n",
       "      <td>1.031200e+06</td>\n",
       "      <td>2.600000e+02</td>\n",
       "      <td>3.817600e+04</td>\n",
       "      <td>7.500000e+02</td>\n",
       "      <td>6.000000e+00</td>\n",
       "      <td>5.250000e+00</td>\n",
       "      <td>1.390000e+00</td>\n",
       "    </tr>\n",
       "    <tr>\n",
       "      <th>75%</th>\n",
       "      <td>4.357000e+03</td>\n",
       "      <td>7.700000e+01</td>\n",
       "      <td>1.062310e+06</td>\n",
       "      <td>3.800000e+02</td>\n",
       "      <td>6.460100e+04</td>\n",
       "      <td>1.000000e+03</td>\n",
       "      <td>1.200000e+01</td>\n",
       "      <td>1.050000e+01</td>\n",
       "      <td>2.770000e+00</td>\n",
       "    </tr>\n",
       "    <tr>\n",
       "      <th>max</th>\n",
       "      <td>9.023000e+03</td>\n",
       "      <td>9.900000e+01</td>\n",
       "      <td>1.701100e+06</td>\n",
       "      <td>9.780000e+02</td>\n",
       "      <td>9.992750e+05</td>\n",
       "      <td>1.800000e+05</td>\n",
       "      <td>3.960000e+03</td>\n",
       "      <td>3.960000e+03</td>\n",
       "      <td>1.046120e+03</td>\n",
       "    </tr>\n",
       "  </tbody>\n",
       "</table>\n",
       "</div>"
      ],
      "text/plain": [
       "       Store Number  County Number      Category  Vendor Number   Item Number  \\\n",
       "count  2.184483e+06   2.183364e+06  2.183710e+06   2.184483e+06  2.184483e+06   \n",
       "mean   3.578517e+03   5.719683e+01  1.044253e+06   2.559387e+02  4.596141e+04   \n",
       "std    9.435823e+02   2.729248e+01  5.254551e+04   1.409934e+02  5.263435e+04   \n",
       "min    2.106000e+03   1.000000e+00  1.011100e+06   1.000000e+01  1.730000e+02   \n",
       "25%    2.603000e+03   3.100000e+01  1.012200e+06   1.150000e+02  2.682800e+04   \n",
       "50%    3.713000e+03   6.200000e+01  1.031200e+06   2.600000e+02  3.817600e+04   \n",
       "75%    4.357000e+03   7.700000e+01  1.062310e+06   3.800000e+02  6.460100e+04   \n",
       "max    9.023000e+03   9.900000e+01  1.701100e+06   9.780000e+02  9.992750e+05   \n",
       "\n",
       "       Bottle Volume (ml)  Bottles Sold  Volume Sold (Liters)  \\\n",
       "count        2.184483e+06  2.184483e+06          2.184483e+06   \n",
       "mean         9.248151e+02  9.875308e+00          8.980478e+00   \n",
       "std          5.211457e+02  2.369368e+01          2.834942e+01   \n",
       "min          0.000000e+00  1.000000e+00          0.000000e+00   \n",
       "25%          7.500000e+02  2.000000e+00          1.500000e+00   \n",
       "50%          7.500000e+02  6.000000e+00          5.250000e+00   \n",
       "75%          1.000000e+03  1.200000e+01          1.050000e+01   \n",
       "max          1.800000e+05  3.960000e+03          3.960000e+03   \n",
       "\n",
       "       Volume Sold (Gallons)  \n",
       "count           2.184483e+06  \n",
       "mean            2.372598e+00  \n",
       "std             7.489113e+00  \n",
       "min             0.000000e+00  \n",
       "25%             4.000000e-01  \n",
       "50%             1.390000e+00  \n",
       "75%             2.770000e+00  \n",
       "max             1.046120e+03  "
      ]
     },
     "execution_count": 7,
     "metadata": {},
     "output_type": "execute_result"
    }
   ],
   "source": [
    "df2015.describe()\n",
    "# As we can see, lots of alcohol has been sold in Iowa in 2015.  "
   ]
  },
  {
   "cell_type": "markdown",
   "metadata": {},
   "source": [
    "There a few unreasonable sales figures( $100,000+) in the dataset.  It is unreasonable to assume that these are normal sales figures and in the end will significantly skew our data.  If a store records a 100,000 sale it is going to drastically inflate that stores sales as well as increase the average sale statistics which I engineer and use later on."
   ]
  },
  {
   "cell_type": "code",
   "execution_count": 12,
   "metadata": {
    "collapsed": false
   },
   "outputs": [],
   "source": [
    "# removing all records where bottles sold is greater than 50.\n",
    "df2015 = df2015[df2015['Bottles Sold'] < 50]\n",
    "\n",
    "# this dropped 4863 rows which is about 1.8% of the rows in the dataset.\n",
    "# We can come back to that and see if there are any trends regarding these large transactions."
   ]
  },
  {
   "cell_type": "markdown",
   "metadata": {},
   "source": [
    "### Exploratory Analysis\n",
    "\n",
    "Perform some exploratory statistical analysis and make some plots, such as histograms of transaction totals, bottles sold, etc."
   ]
  },
  {
   "cell_type": "code",
   "execution_count": 11,
   "metadata": {
    "collapsed": true
   },
   "outputs": [],
   "source": [
    "import seaborn as sns\n",
    "import matplotlib.pyplot as plt\n",
    "%matplotlib inline"
   ]
  },
  {
   "cell_type": "code",
   "execution_count": 14,
   "metadata": {
    "collapsed": false
   },
   "outputs": [],
   "source": [
    "# strip that Dollar sign \n",
    "df2015['Sale (Dollars)'] = df2015['Sale (Dollars)'].map(lambda x: x.lstrip('$'))\n",
    "\n",
    "# convert money to a float\n",
    "df2015[['Sale (Dollars)']] = df2015[['Sale (Dollars)']].apply(pd.to_numeric)\n",
    "\n",
    "# Convert store number and county number to a string(Object) as well.  \n",
    "df2015[['Store Number']] = df2015[['Store Number']].astype(str)\n",
    "df2015[['County Number']] = df2015[['County Number']].astype(str)"
   ]
  },
  {
   "cell_type": "code",
   "execution_count": 24,
   "metadata": {
    "collapsed": false
   },
   "outputs": [],
   "source": [
    "# calculate the total sales of liquor grouped by month.\n",
    "times = pd.DatetimeIndex(df2015['Date'])\n",
    "month_ts = df2015.groupby([times.month])['Sale (Dollars)'].sum()\n",
    "\n",
    "# adding a month column for graphing\n",
    "month_n = ['Jan','Feb','Mar','Apr','May','Jun','Jul','Aug','Sep','Oct','Nov','Dec']"
   ]
  },
  {
   "cell_type": "code",
   "execution_count": 26,
   "metadata": {
    "collapsed": false
   },
   "outputs": [
    {
     "data": {
      "text/plain": [
       "<matplotlib.axes._subplots.AxesSubplot at 0x1236a4110>"
      ]
     },
     "execution_count": 26,
     "metadata": {},
     "output_type": "execute_result"
    },
    {
     "data": {
      "image/png": "[encoded data removed]",
      "text/plain": [
       "<matplotlib.figure.Figure at 0x123c14b50>"
      ]
     },
     "metadata": {},
     "output_type": "display_data"
    }
   ],
   "source": [
    "sns.barplot(month_n,month_ts)"
   ]
  },
  {
   "cell_type": "markdown",
   "metadata": {},
   "source": [
    "looks like Iowans are un-creative gift givers and just give eachother alcohol for christmas/hanukkah.\n",
    "Or they need alcohol to stand the cold/ family gatherings."
   ]
  },
  {
   "cell_type": "code",
   "execution_count": 27,
   "metadata": {
    "collapsed": false
   },
   "outputs": [
    {
     "name": "stderr",
     "output_type": "stream",
     "text": [
      "/Users/samuelstack/anaconda/lib/python2.7/site-packages/ipykernel/__main__.py:5: FutureWarning: sort(columns=....) is deprecated, use sort_values(by=.....)\n"
     ]
    },
    {
     "data": {
      "text/html": [
       "<div>\n",
       "<table border=\"1\" class=\"dataframe\">\n",
       "  <thead>\n",
       "    <tr style=\"text-align: right;\">\n",
       "      <th></th>\n",
       "      <th>Sale (Dollars)</th>\n",
       "    </tr>\n",
       "    <tr>\n",
       "      <th>County</th>\n",
       "      <th></th>\n",
       "    </tr>\n",
       "  </thead>\n",
       "  <tbody>\n",
       "    <tr>\n",
       "      <th>Polk</th>\n",
       "      <td>4.349278e+07</td>\n",
       "    </tr>\n",
       "    <tr>\n",
       "      <th>Linn</th>\n",
       "      <td>1.888935e+07</td>\n",
       "    </tr>\n",
       "    <tr>\n",
       "      <th>Scott</th>\n",
       "      <td>1.486903e+07</td>\n",
       "    </tr>\n",
       "    <tr>\n",
       "      <th>Johnson</th>\n",
       "      <td>1.301324e+07</td>\n",
       "    </tr>\n",
       "    <tr>\n",
       "      <th>Black Hawk</th>\n",
       "      <td>1.242950e+07</td>\n",
       "    </tr>\n",
       "  </tbody>\n",
       "</table>\n",
       "</div>"
      ],
      "text/plain": [
       "            Sale (Dollars)\n",
       "County                    \n",
       "Polk          4.349278e+07\n",
       "Linn          1.888935e+07\n",
       "Scott         1.486903e+07\n",
       "Johnson       1.301324e+07\n",
       "Black Hawk    1.242950e+07"
      ]
     },
     "execution_count": 27,
     "metadata": {},
     "output_type": "execute_result"
    }
   ],
   "source": [
    "# Examine top county total sales.\n",
    "county_ts = pd.DataFrame(df2015.groupby('County', axis=0)['Sale (Dollars)'].sum())\n",
    "\n",
    "county_ts = county_ts.sort('Sale (Dollars)', ascending=False)\n",
    "county_ts.head()"
   ]
  },
  {
   "cell_type": "code",
   "execution_count": 28,
   "metadata": {
    "collapsed": false
   },
   "outputs": [
    {
     "name": "stderr",
     "output_type": "stream",
     "text": [
      "/Users/samuelstack/anaconda/lib/python2.7/site-packages/ipykernel/__main__.py:2: FutureWarning: sort(columns=....) is deprecated, use sort_values(by=.....)\n",
      "  from ipykernel import kernelapp as app\n"
     ]
    },
    {
     "data": {
      "text/html": [
       "<div>\n",
       "<table border=\"1\" class=\"dataframe\">\n",
       "  <thead>\n",
       "    <tr style=\"text-align: right;\">\n",
       "      <th></th>\n",
       "      <th>Bottles Sold</th>\n",
       "    </tr>\n",
       "    <tr>\n",
       "      <th>County</th>\n",
       "      <th></th>\n",
       "    </tr>\n",
       "  </thead>\n",
       "  <tbody>\n",
       "    <tr>\n",
       "      <th>Polk</th>\n",
       "      <td>3395680</td>\n",
       "    </tr>\n",
       "    <tr>\n",
       "      <th>Linn</th>\n",
       "      <td>1531685</td>\n",
       "    </tr>\n",
       "    <tr>\n",
       "      <th>Scott</th>\n",
       "      <td>1269078</td>\n",
       "    </tr>\n",
       "    <tr>\n",
       "      <th>Black Hawk</th>\n",
       "      <td>1113632</td>\n",
       "    </tr>\n",
       "    <tr>\n",
       "      <th>Johnson</th>\n",
       "      <td>951045</td>\n",
       "    </tr>\n",
       "  </tbody>\n",
       "</table>\n",
       "</div>"
      ],
      "text/plain": [
       "            Bottles Sold\n",
       "County                  \n",
       "Polk             3395680\n",
       "Linn             1531685\n",
       "Scott            1269078\n",
       "Black Hawk       1113632\n",
       "Johnson           951045"
      ]
     },
     "execution_count": 28,
     "metadata": {},
     "output_type": "execute_result"
    }
   ],
   "source": [
    "county_bs = pd.DataFrame(df2015.groupby('County', axis =0)['Bottles Sold'].sum())\n",
    "county_bs = county_bs.sort('Bottles Sold', ascending = False)\n",
    "county_bs.head()"
   ]
  },
  {
   "cell_type": "code",
   "execution_count": null,
   "metadata": {
    "collapsed": true
   },
   "outputs": [],
   "source": [
    "# Creating a avg sale_per_bottle feature based on County Sales dollars and bottles sold\n",
    "countys = county_ts.join(county_bs)\n",
    "countys['sale_per_bottle'] =  countys['Sale (Dollars)']/ countys['Bottles Sold']\n",
    "countys = countys.sort('Bottles Sold', ascending = False)\n",
    "countys.head()\n"
   ]
  },
  {
   "cell_type": "markdown",
   "metadata": {},
   "source": [
    "### Adding additional resources.  \n",
    "\n",
    " It does not make much sense to try to make a model to predict good store locations if most of the features we have are already related (Sale amount, bottles sold, liters sold etc.) and we don't really know what are some examples to stores that have opened up to know what are some of the feature criteria associated with a new store that will perform well.\n",
    " \n",
    " Instead, I decided to gather some information on population to add into our data so we can look at some county wide specifics and analyze those counties where higher ratios of purchase (ammounts & bottles) per person.  Higher per person ratios is evidence of locations where there is higher demand for alcohol and thus warrents investigation as to whether said county has an undersaturation of stores."
   ]
  },
  {
   "cell_type": "markdown",
   "metadata": {},
   "source": [
    "I used the information available on the below website to get my information. \n",
    "\n",
    "http://www.iowa-demographics.com/counties_by_population"
   ]
  },
  {
   "cell_type": "code",
   "execution_count": null,
   "metadata": {
    "collapsed": true
   },
   "outputs": [],
   "source": [
    "#Read Population csv in as pop df\n",
    "pops = pd.read_csv('Data/IowaPopulations.csv')\n",
    "\n",
    "#Drops the column \"nums\" which is not needed\n",
    "pops.drop('num', axis =1, inplace = True)\n",
    "\n",
    "#drops the rows with index 99-140 which are completely blank and should not have made it to python anyways.\n",
    "pops.drop(pops.index[range(99,140)], inplace = True)\n",
    "\n",
    "#Sorts the dataframe alphabetically\n",
    "pops.sort('County',inplace=True)\n",
    "\n",
    "\n",
    "#Suppose to strip out the \" County\" post fix from the county collumns\n",
    "pops['County'] = pops['County'].map(lambda x: x.rstrip('County'))\n",
    "\n",
    "#this left all the countys with a space after the actual county,need to strip the space(last thing i figured out)\n",
    "pops['County'] = pops['County'].map(lambda x :x.rstrip(' '))\n"
   ]
  },
  {
   "cell_type": "code",
   "execution_count": null,
   "metadata": {
    "collapsed": false
   },
   "outputs": [],
   "source": [
    "# resetting index of counties to merge better\n",
    "countys.reset_index(inplace = True)"
   ]
  },
  {
   "cell_type": "code",
   "execution_count": 60,
   "metadata": {
    "collapsed": false
   },
   "outputs": [
    {
     "data": {
      "text/plain": [
       "(99, 2)"
      ]
     },
     "execution_count": 60,
     "metadata": {},
     "output_type": "execute_result"
    }
   ],
   "source": [
    "# Making sure target dataframes have same number of rows/counties\n",
    "pops.shape"
   ]
  },
  {
   "cell_type": "code",
   "execution_count": 61,
   "metadata": {
    "collapsed": false
   },
   "outputs": [
    {
     "data": {
      "text/plain": [
       "(99, 4)"
      ]
     },
     "execution_count": 61,
     "metadata": {},
     "output_type": "execute_result"
    }
   ],
   "source": [
    "countys.shape"
   ]
  },
  {
   "cell_type": "code",
   "execution_count": null,
   "metadata": {
    "collapsed": true
   },
   "outputs": [],
   "source": [
    "# Merge Dataframes county and population dataframes\n",
    "countyps = pd.merge(countys, pops, on= 'County', how='outer')\n"
   ]
  },
  {
   "cell_type": "code",
   "execution_count": null,
   "metadata": {
    "collapsed": true
   },
   "outputs": [],
   "source": [
    "# Creating a feature for number of stores in each county.  \n",
    "county_stores = pd.DataFrame(df2015.groupby('County', axis = 0)['Store Number'].nunique())\n",
    "county_stores.rename(columns = {'Store Number': 'store_count'}, inplace = True)\n",
    "county_stores.reset_index(inplace=True)\n",
    "\n",
    "# merging results of stores per county with the mane dataframe\n",
    "countyps = pd.merge(countyps, county_stores, on='County', how='outer')\n"
   ]
  },
  {
   "cell_type": "code",
   "execution_count": 76,
   "metadata": {
    "collapsed": false
   },
   "outputs": [
    {
     "data": {
      "text/plain": [
       "County              object\n",
       "Sale (Dollars)     float64\n",
       "Bottles Sold       float64\n",
       "sale_per_bottle    float64\n",
       "Population          object\n",
       "store_count_y      float64\n",
       "dtype: object"
      ]
     },
     "execution_count": 76,
     "metadata": {},
     "output_type": "execute_result"
    }
   ],
   "source": [
    "countyps.dtypes"
   ]
  },
  {
   "cell_type": "markdown",
   "metadata": {},
   "source": [
    "#### Some Insights so far.\n",
    "Polk neary outsells the second place county Linn by nearly double (2.5m).\n",
    "Top 5 all post sales above 1m.  this could be attributed to population density of those reasons. \n",
    "Polk countains Des Moines,\n",
    "Linn county contains Cedar Rapids,\n",
    "Scott County has another City, Davenport,\n",
    "Johnson County contains Iowa City,\n",
    "Black hawk has some notable cities.  Waterloo and Cedar Falls"
   ]
  },
  {
   "cell_type": "code",
   "execution_count": 91,
   "metadata": {
    "collapsed": false
   },
   "outputs": [
    {
     "name": "stderr",
     "output_type": "stream",
     "text": [
      "/Users/samuelstack/anaconda/lib/python2.7/site-packages/ipykernel/__main__.py:4: FutureWarning: sort(columns=....) is deprecated, use sort_values(by=.....)\n"
     ]
    },
    {
     "data": {
      "text/html": [
       "<div>\n",
       "<table border=\"1\" class=\"dataframe\">\n",
       "  <thead>\n",
       "    <tr style=\"text-align: right;\">\n",
       "      <th></th>\n",
       "      <th>Sale (Dollars)</th>\n",
       "    </tr>\n",
       "    <tr>\n",
       "      <th>County</th>\n",
       "      <th></th>\n",
       "    </tr>\n",
       "  </thead>\n",
       "  <tbody>\n",
       "    <tr>\n",
       "      <th>Delaware</th>\n",
       "      <td>134.729618</td>\n",
       "    </tr>\n",
       "    <tr>\n",
       "      <th>Fremont</th>\n",
       "      <td>134.243296</td>\n",
       "    </tr>\n",
       "    <tr>\n",
       "      <th>Floyd</th>\n",
       "      <td>128.625712</td>\n",
       "    </tr>\n",
       "    <tr>\n",
       "      <th>Hardin</th>\n",
       "      <td>125.021772</td>\n",
       "    </tr>\n",
       "    <tr>\n",
       "      <th>Johnson</th>\n",
       "      <td>122.122429</td>\n",
       "    </tr>\n",
       "  </tbody>\n",
       "</table>\n",
       "</div>"
      ],
      "text/plain": [
       "          Sale (Dollars)\n",
       "County                  \n",
       "Delaware      134.729618\n",
       "Fremont       134.243296\n",
       "Floyd         128.625712\n",
       "Hardin        125.021772\n",
       "Johnson       122.122429"
      ]
     },
     "execution_count": 91,
     "metadata": {},
     "output_type": "execute_result"
    }
   ],
   "source": [
    "# Which county has the best average sales?.\n",
    "\n",
    "acs = pd.DataFrame(df2015.groupby('County')['Sale (Dollars)'].mean())\n",
    "acs.sort('Sale (Dollars)', inplace=True,ascending = False )\n",
    "acs.head()"
   ]
  },
  {
   "cell_type": "markdown",
   "metadata": {
    "collapsed": true
   },
   "source": [
    "#### Insights \n",
    "Delaware doesnt seem like they have any population centers of note, nor does Floyd or Hardin.\n"
   ]
  },
  {
   "cell_type": "code",
   "execution_count": 92,
   "metadata": {
    "collapsed": false
   },
   "outputs": [
    {
     "name": "stderr",
     "output_type": "stream",
     "text": [
      "/Users/samuelstack/anaconda/lib/python2.7/site-packages/ipykernel/__main__.py:5: FutureWarning: sort(columns=....) is deprecated, use sort_values(by=.....)\n"
     ]
    },
    {
     "data": {
      "text/html": [
       "<div>\n",
       "<table border=\"1\" class=\"dataframe\">\n",
       "  <thead>\n",
       "    <tr style=\"text-align: right;\">\n",
       "      <th></th>\n",
       "      <th>Volume Sold (Liters)</th>\n",
       "    </tr>\n",
       "    <tr>\n",
       "      <th>County</th>\n",
       "      <th></th>\n",
       "    </tr>\n",
       "  </thead>\n",
       "  <tbody>\n",
       "    <tr>\n",
       "      <th>Delaware</th>\n",
       "      <td>9.809827</td>\n",
       "    </tr>\n",
       "    <tr>\n",
       "      <th>Hardin</th>\n",
       "      <td>9.696966</td>\n",
       "    </tr>\n",
       "    <tr>\n",
       "      <th>Fremont</th>\n",
       "      <td>9.613966</td>\n",
       "    </tr>\n",
       "    <tr>\n",
       "      <th>Floyd</th>\n",
       "      <td>9.372983</td>\n",
       "    </tr>\n",
       "    <tr>\n",
       "      <th>Hancock</th>\n",
       "      <td>9.087602</td>\n",
       "    </tr>\n",
       "    <tr>\n",
       "      <th>Mills</th>\n",
       "      <td>8.623744</td>\n",
       "    </tr>\n",
       "    <tr>\n",
       "      <th>Winneshiek</th>\n",
       "      <td>8.618957</td>\n",
       "    </tr>\n",
       "    <tr>\n",
       "      <th>Howard</th>\n",
       "      <td>8.533412</td>\n",
       "    </tr>\n",
       "    <tr>\n",
       "      <th>Wright</th>\n",
       "      <td>8.364783</td>\n",
       "    </tr>\n",
       "    <tr>\n",
       "      <th>Carroll</th>\n",
       "      <td>8.310284</td>\n",
       "    </tr>\n",
       "  </tbody>\n",
       "</table>\n",
       "</div>"
      ],
      "text/plain": [
       "            Volume Sold (Liters)\n",
       "County                          \n",
       "Delaware                9.809827\n",
       "Hardin                  9.696966\n",
       "Fremont                 9.613966\n",
       "Floyd                   9.372983\n",
       "Hancock                 9.087602\n",
       "Mills                   8.623744\n",
       "Winneshiek              8.618957\n",
       "Howard                  8.533412\n",
       "Wright                  8.364783\n",
       "Carroll                 8.310284"
      ]
     },
     "execution_count": 92,
     "metadata": {},
     "output_type": "execute_result"
    }
   ],
   "source": [
    "\n",
    "#I dont think this is right, unless sales of liquor to stores and restaurants must flow through the state."
   ]
  },
  {
   "cell_type": "code",
   "execution_count": 93,
   "metadata": {
    "collapsed": false
   },
   "outputs": [
    {
     "data": {
      "text/plain": [
       "array([[<matplotlib.axes._subplots.AxesSubplot object at 0x1243ae210>]], dtype=object)"
      ]
     },
     "execution_count": 93,
     "metadata": {},
     "output_type": "execute_result"
    },
    {
     "data": {
      "image/png": "[encoded data removed]",
      "text/plain": [
       "<matplotlib.figure.Figure at 0x1243ae250>"
      ]
     },
     "metadata": {},
     "output_type": "display_data"
    }
   ],
   "source": [
    "# Just want to check the Volume sold per transaction real quick. \n",
    "df2015.hist('Volume Sold (Liters)', bins = 25)\n",
    "# Everything seems to be in place with respect to a few large outlier,  "
   ]
  },
  {
   "cell_type": "markdown",
   "metadata": {},
   "source": [
    "Most sales fall between one and 10 liters.  "
   ]
  },
  {
   "cell_type": "markdown",
   "metadata": {},
   "source": [
    "### Exporting refined dataframe to a csv to be analyzed uwing Tableau"
   ]
  },
  {
   "cell_type": "code",
   "execution_count": null,
   "metadata": {
    "collapsed": true
   },
   "outputs": [],
   "source": [
    "countyps.to_csv('iowa_tableau.csv')"
   ]
  },
  {
   "cell_type": "markdown",
   "metadata": {},
   "source": [
    "# Analyze the data and Insights\n",
    "Look for any statistical relationships, correlations, or other relevant properties of the dataset."
   ]
  },
  {
   "cell_type": "markdown",
   "metadata": {},
   "source": [
    "I can use th newly constructed countyps dataframe to do some county wide analytics and find optimal locations.  \n",
    "It woudl be helpful to somehow, in the end, incorporate cost of living.  \n",
    "\n"
   ]
  },
  {
   "cell_type": "markdown",
   "metadata": {},
   "source": [
    "###  - Per Bottle Sales  by county - this will show what the average price people are willing to pay per bottle in each county\n",
    "        this could indicate...\n",
    "            1. The cost of living is higher in these counties driving up average costs of goods.\n",
    "            2. The audience has a tendency to by better quality alcohols and are willing to pay premiums. "
   ]
  },
  {
   "cell_type": "code",
   "execution_count": 99,
   "metadata": {
    "collapsed": false
   },
   "outputs": [
    {
     "name": "stderr",
     "output_type": "stream",
     "text": [
      "/Users/samuelstack/anaconda/lib/python2.7/site-packages/ipykernel/__main__.py:3: FutureWarning: sort(columns=....) is deprecated, use sort_values(by=.....)\n",
      "  app.launch_new_instance()\n"
     ]
    },
    {
     "data": {
      "text/html": [
       "<div>\n",
       "<table border=\"1\" class=\"dataframe\">\n",
       "  <thead>\n",
       "    <tr style=\"text-align: right;\">\n",
       "      <th></th>\n",
       "      <th>Volume Sold (Liters)</th>\n",
       "    </tr>\n",
       "    <tr>\n",
       "      <th>County</th>\n",
       "      <th></th>\n",
       "    </tr>\n",
       "  </thead>\n",
       "  <tbody>\n",
       "    <tr>\n",
       "      <th>Delaware</th>\n",
       "      <td>9.809827</td>\n",
       "    </tr>\n",
       "    <tr>\n",
       "      <th>Hardin</th>\n",
       "      <td>9.696966</td>\n",
       "    </tr>\n",
       "    <tr>\n",
       "      <th>Fremont</th>\n",
       "      <td>9.613966</td>\n",
       "    </tr>\n",
       "    <tr>\n",
       "      <th>Floyd</th>\n",
       "      <td>9.372983</td>\n",
       "    </tr>\n",
       "    <tr>\n",
       "      <th>Hancock</th>\n",
       "      <td>9.087602</td>\n",
       "    </tr>\n",
       "  </tbody>\n",
       "</table>\n",
       "</div>"
      ],
      "text/plain": [
       "          Volume Sold (Liters)\n",
       "County                        \n",
       "Delaware              9.809827\n",
       "Hardin                9.696966\n",
       "Fremont               9.613966\n",
       "Floyd                 9.372983\n",
       "Hancock               9.087602"
      ]
     },
     "execution_count": 99,
     "metadata": {},
     "output_type": "execute_result"
    }
   ],
   "source": [
    "bottle_cms = (df2015.groupby('County', axis=0)['Volume Sold (Liters)'].mean())\n",
    "bottle_cms = pd.DataFrame(bottle_cms)\n",
    "bottle_cms = bottle_cms.sort('Volume Sold (Liters)', ascending = False)\n",
    "bottle_cms.head()"
   ]
  },
  {
   "cell_type": "markdown",
   "metadata": {},
   "source": [
    "###  - Total Sale per County - "
   ]
  },
  {
   "cell_type": "code",
   "execution_count": 103,
   "metadata": {
    "collapsed": false
   },
   "outputs": [
    {
     "data": {
      "text/html": [
       "<div>\n",
       "<table border=\"1\" class=\"dataframe\">\n",
       "  <thead>\n",
       "    <tr style=\"text-align: right;\">\n",
       "      <th></th>\n",
       "      <th>County</th>\n",
       "      <th>Sale (Dollars)</th>\n",
       "    </tr>\n",
       "  </thead>\n",
       "  <tbody>\n",
       "    <tr>\n",
       "      <th>0</th>\n",
       "      <td>Polk</td>\n",
       "      <td>4.349278e+07</td>\n",
       "    </tr>\n",
       "    <tr>\n",
       "      <th>1</th>\n",
       "      <td>Linn</td>\n",
       "      <td>1.888935e+07</td>\n",
       "    </tr>\n",
       "    <tr>\n",
       "      <th>2</th>\n",
       "      <td>Scott</td>\n",
       "      <td>1.486903e+07</td>\n",
       "    </tr>\n",
       "    <tr>\n",
       "      <th>3</th>\n",
       "      <td>Black Hawk</td>\n",
       "      <td>1.242950e+07</td>\n",
       "    </tr>\n",
       "    <tr>\n",
       "      <th>4</th>\n",
       "      <td>Johnson</td>\n",
       "      <td>1.301324e+07</td>\n",
       "    </tr>\n",
       "  </tbody>\n",
       "</table>\n",
       "</div>"
      ],
      "text/plain": [
       "       County  Sale (Dollars)\n",
       "0        Polk    4.349278e+07\n",
       "1        Linn    1.888935e+07\n",
       "2       Scott    1.486903e+07\n",
       "3  Black Hawk    1.242950e+07\n",
       "4     Johnson    1.301324e+07"
      ]
     },
     "execution_count": 103,
     "metadata": {},
     "output_type": "execute_result"
    }
   ],
   "source": [
    "countyps[['County','Sale (Dollars)']].head()"
   ]
  },
  {
   "cell_type": "markdown",
   "metadata": {},
   "source": [
    "### Total sales per store vs. Average Individual annual spending."
   ]
  },
  {
   "cell_type": "markdown",
   "metadata": {},
   "source": [
    "![Total sales per store vs. Average Individual annual spending](Images/Iowa1.png)\n"
   ]
  },
  {
   "cell_type": "markdown",
   "metadata": {},
   "source": [
    "#### Final Analysis and Insights\n",
    "\n",
    "I made the 'Sales per Store' and 'Sales per Person' using calculate fields in Tableau, but could have just as easily made those as columns in Python.  \n",
    "\n",
    "The nice thing about Tableau was the scroll over ability, which I used to determine that the one point in the top right was Dickinson County.\n",
    "\n",
    "Therefore, my recomendation for a county to open a new store would be Dickinson, as they have one of the best 'Per Store Sales' and a per capita spending that greatly surpases everyone else. "
   ]
  },
  {
   "cell_type": "markdown",
   "metadata": {
    "collapsed": true
   },
   "source": [
    "#### Calculations behind the Features in the above Plot\n",
    "\n",
    "'Sales per Store' =  countyps['Sale (Dollars)']/countyps['store_count_y']\n",
    "\n",
    "'Sales per Person' = countyps['Sale (Dollars)']/ countyps['Population']"
   ]
  },
  {
   "cell_type": "code",
   "execution_count": 104,
   "metadata": {
    "collapsed": false
   },
   "outputs": [
    {
     "data": {
      "text/html": [
       "<div>\n",
       "<table border=\"1\" class=\"dataframe\">\n",
       "  <thead>\n",
       "    <tr style=\"text-align: right;\">\n",
       "      <th></th>\n",
       "      <th>County</th>\n",
       "      <th>Sale (Dollars)</th>\n",
       "      <th>Bottles Sold</th>\n",
       "      <th>sale_per_bottle</th>\n",
       "      <th>Population</th>\n",
       "      <th>store_count_y</th>\n",
       "    </tr>\n",
       "  </thead>\n",
       "  <tbody>\n",
       "    <tr>\n",
       "      <th>0</th>\n",
       "      <td>Polk</td>\n",
       "      <td>4.349278e+07</td>\n",
       "      <td>3395680.0</td>\n",
       "      <td>12.808268</td>\n",
       "      <td>467,711</td>\n",
       "      <td>206.0</td>\n",
       "    </tr>\n",
       "    <tr>\n",
       "      <th>1</th>\n",
       "      <td>Linn</td>\n",
       "      <td>1.888935e+07</td>\n",
       "      <td>1531685.0</td>\n",
       "      <td>12.332397</td>\n",
       "      <td>219,916</td>\n",
       "      <td>101.0</td>\n",
       "    </tr>\n",
       "    <tr>\n",
       "      <th>2</th>\n",
       "      <td>Scott</td>\n",
       "      <td>1.486903e+07</td>\n",
       "      <td>1269078.0</td>\n",
       "      <td>11.716400</td>\n",
       "      <td>172,126</td>\n",
       "      <td>65.0</td>\n",
       "    </tr>\n",
       "    <tr>\n",
       "      <th>3</th>\n",
       "      <td>Black Hawk</td>\n",
       "      <td>1.242950e+07</td>\n",
       "      <td>1113632.0</td>\n",
       "      <td>11.161225</td>\n",
       "      <td>133,455</td>\n",
       "      <td>72.0</td>\n",
       "    </tr>\n",
       "    <tr>\n",
       "      <th>4</th>\n",
       "      <td>Johnson</td>\n",
       "      <td>1.301324e+07</td>\n",
       "      <td>951045.0</td>\n",
       "      <td>13.683100</td>\n",
       "      <td>144,251</td>\n",
       "      <td>53.0</td>\n",
       "    </tr>\n",
       "  </tbody>\n",
       "</table>\n",
       "</div>"
      ],
      "text/plain": [
       "       County  Sale (Dollars)  Bottles Sold  sale_per_bottle Population  \\\n",
       "0        Polk    4.349278e+07     3395680.0        12.808268    467,711   \n",
       "1        Linn    1.888935e+07     1531685.0        12.332397    219,916   \n",
       "2       Scott    1.486903e+07     1269078.0        11.716400    172,126   \n",
       "3  Black Hawk    1.242950e+07     1113632.0        11.161225    133,455   \n",
       "4     Johnson    1.301324e+07      951045.0        13.683100    144,251   \n",
       "\n",
       "   store_count_y  \n",
       "0          206.0  \n",
       "1          101.0  \n",
       "2           65.0  \n",
       "3           72.0  \n",
       "4           53.0  "
      ]
     },
     "execution_count": 104,
     "metadata": {},
     "output_type": "execute_result"
    }
   ],
   "source": [
    "countyps.head()"
   ]
  }
 ],
 "metadata": {
  "anaconda-cloud": {},
  "kernelspec": {
   "display_name": "Python [default]",
   "language": "python",
   "name": "python2"
  },
  "language_info": {
   "codemirror_mode": {
    "name": "ipython",
    "version": 2
   },
   "file_extension": ".py",
   "mimetype": "text/x-python",
   "name": "python",
   "nbconvert_exporter": "python",
   "pygments_lexer": "ipython2",
   "version": "2.7.12"
  }
 },
 "nbformat": 4,
 "nbformat_minor": 0
}
